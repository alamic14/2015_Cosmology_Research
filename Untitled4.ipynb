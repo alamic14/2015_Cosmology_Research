{
 "cells": [
  {
   "cell_type": "code",
   "execution_count": 17,
   "metadata": {
    "collapsed": false
   },
   "outputs": [
    {
     "name": "stderr",
     "output_type": "stream",
     "text": [
      "/anaconda/lib/python2.7/site-packages/IPython/kernel/__main__.py:41: RuntimeWarning: invalid value encountered in double_scalars\n",
      "/anaconda/lib/python2.7/site-packages/IPython/kernel/__main__.py:41: RuntimeWarning: divide by zero encountered in double_scalars\n",
      "/anaconda/lib/python2.7/site-packages/IPython/kernel/__main__.py:46: RuntimeWarning: invalid value encountered in double_scalars\n",
      "/anaconda/lib/python2.7/site-packages/IPython/kernel/__main__.py:46: RuntimeWarning: divide by zero encountered in double_scalars\n",
      "/anaconda/lib/python2.7/site-packages/IPython/kernel/__main__.py:48: RuntimeWarning: divide by zero encountered in double_scalars\n",
      "/anaconda/lib/python2.7/site-packages/IPython/kernel/__main__.py:48: RuntimeWarning: invalid value encountered in double_scalars\n"
     ]
    },
    {
     "ename": "ZeroDivisionError",
     "evalue": "float division by zero",
     "output_type": "error",
     "traceback": [
      "\u001b[0;31m---------------------------------------------------------------------------\u001b[0m",
      "\u001b[0;31mZeroDivisionError\u001b[0m                         Traceback (most recent call last)",
      "\u001b[0;32m<ipython-input-17-7b49da119f1e>\u001b[0m in \u001b[0;36m<module>\u001b[0;34m()\u001b[0m\n\u001b[1;32m     49\u001b[0m \u001b[0;34m\u001b[0m\u001b[0m\n\u001b[1;32m     50\u001b[0m     \u001b[0mk\u001b[0m\u001b[0;34m=\u001b[0m\u001b[0mi\u001b[0m\u001b[0;34m*\u001b[0m\u001b[0;36m100\u001b[0m\u001b[0;34m\u001b[0m\u001b[0m\n\u001b[0;32m---> 51\u001b[0;31m     \u001b[0mQ\u001b[0m \u001b[0;34m=\u001b[0m\u001b[0;34m(\u001b[0m\u001b[0mplanck\u001b[0m\u001b[0;34m(\u001b[0m\u001b[0mk\u001b[0m\u001b[0;34m,\u001b[0m\u001b[0mT1\u001b[0m\u001b[0;34m)\u001b[0m\u001b[0;34m-\u001b[0m\u001b[0mplanck\u001b[0m\u001b[0;34m(\u001b[0m\u001b[0mk\u001b[0m\u001b[0;34m,\u001b[0m\u001b[0mTn\u001b[0m\u001b[0;34m)\u001b[0m\u001b[0;34m)\u001b[0m\u001b[0;34m/\u001b[0m\u001b[0mR_T\u001b[0m\u001b[0;34m\u001b[0m\u001b[0m\n\u001b[0m\u001b[1;32m     52\u001b[0m     \u001b[0mQ_tot\u001b[0m\u001b[0;34m+=\u001b[0m\u001b[0mQ\u001b[0m\u001b[0;34m*\u001b[0m\u001b[0mc\u001b[0m\u001b[0;34m*\u001b[0m\u001b[0mpi\u001b[0m\u001b[0;34m*\u001b[0m\u001b[0;36m100\u001b[0m\u001b[0;34m\u001b[0m\u001b[0m\n\u001b[1;32m     53\u001b[0m \u001b[0;34m\u001b[0m\u001b[0m\n",
      "\u001b[0;32m<ipython-input-17-7b49da119f1e>\u001b[0m in \u001b[0;36mplanck\u001b[0;34m(k, T)\u001b[0m\n\u001b[1;32m     27\u001b[0m \u001b[0;32mdef\u001b[0m \u001b[0mplanck\u001b[0m\u001b[0;34m(\u001b[0m\u001b[0mk\u001b[0m\u001b[0;34m,\u001b[0m \u001b[0mT\u001b[0m\u001b[0;34m)\u001b[0m\u001b[0;34m:\u001b[0m\u001b[0;34m\u001b[0m\u001b[0m\n\u001b[1;32m     28\u001b[0m     \u001b[0;32mif\u001b[0m \u001b[0;34m(\u001b[0m\u001b[0mh\u001b[0m\u001b[0;34m*\u001b[0m\u001b[0mc\u001b[0m\u001b[0;34m*\u001b[0m\u001b[0mk\u001b[0m\u001b[0;34m/\u001b[0m\u001b[0;34m(\u001b[0m\u001b[0mb\u001b[0m\u001b[0;34m*\u001b[0m\u001b[0mT\u001b[0m\u001b[0;34m)\u001b[0m\u001b[0;34m)\u001b[0m \u001b[0;34m<\u001b[0m \u001b[0;36m10\u001b[0m\u001b[0;34m**\u001b[0m\u001b[0;34m(\u001b[0m\u001b[0;34m-\u001b[0m\u001b[0;36m4\u001b[0m\u001b[0;34m)\u001b[0m\u001b[0;34m:\u001b[0m\u001b[0;34m\u001b[0m\u001b[0m\n\u001b[0;32m---> 29\u001b[0;31m         \u001b[0mI\u001b[0m \u001b[0;34m=\u001b[0m \u001b[0;36m2.\u001b[0m\u001b[0;34m*\u001b[0m\u001b[0mh\u001b[0m\u001b[0;34m*\u001b[0m\u001b[0mc\u001b[0m\u001b[0;34m*\u001b[0m\u001b[0;34m(\u001b[0m\u001b[0mk\u001b[0m\u001b[0;34m**\u001b[0m\u001b[0;36m3\u001b[0m\u001b[0;34m)\u001b[0m\u001b[0;34m*\u001b[0m\u001b[0;34m(\u001b[0m\u001b[0mb\u001b[0m\u001b[0;34m*\u001b[0m\u001b[0mT\u001b[0m\u001b[0;34m)\u001b[0m\u001b[0;34m/\u001b[0m\u001b[0;34m(\u001b[0m\u001b[0mh\u001b[0m\u001b[0;34m*\u001b[0m\u001b[0mc\u001b[0m\u001b[0;34m*\u001b[0m\u001b[0mk\u001b[0m\u001b[0;34m)\u001b[0m\u001b[0;34m\u001b[0m\u001b[0m\n\u001b[0m\u001b[1;32m     30\u001b[0m     \u001b[0;32melif\u001b[0m \u001b[0;34m(\u001b[0m\u001b[0mh\u001b[0m\u001b[0;34m*\u001b[0m\u001b[0mc\u001b[0m\u001b[0;34m*\u001b[0m\u001b[0mk\u001b[0m\u001b[0;34m/\u001b[0m\u001b[0;34m(\u001b[0m\u001b[0mb\u001b[0m\u001b[0;34m*\u001b[0m\u001b[0mT\u001b[0m\u001b[0;34m)\u001b[0m\u001b[0;34m)\u001b[0m \u001b[0;34m>\u001b[0m \u001b[0;36m10\u001b[0m\u001b[0;34m**\u001b[0m\u001b[0;34m(\u001b[0m\u001b[0;36m4\u001b[0m\u001b[0;34m)\u001b[0m\u001b[0;34m:\u001b[0m\u001b[0;34m\u001b[0m\u001b[0m\n\u001b[1;32m     31\u001b[0m         \u001b[0mI\u001b[0m \u001b[0;34m=\u001b[0m \u001b[0;36m0.\u001b[0m\u001b[0;34m\u001b[0m\u001b[0m\n",
      "\u001b[0;31mZeroDivisionError\u001b[0m: float division by zero"
     ]
    }
   ],
   "source": [
    "import numpy as np\n",
    "import scipy.constants as sp\n",
    "import csv\n",
    "from numpy import matrix as mt\n",
    "\n",
    "# emmisivity, refl, trans  csv data transferred into matrix \n",
    "e_arr=np.array(list(csv.reader(open(\"repository/repo/TER_file_cryorun7_emiss.csv\",\"rb\"),delimiter=','))).astype('float')\n",
    "p_arr=np.array(list(csv.reader(open(\"repository/repo/TER_file_cryorun7_refl.csv\",\"rb\"),delimiter=','))).astype('float')\n",
    "t_arr=np.array(list(csv.reader(open(\"repository/repo/TER_file_cryorun7_trans.csv\",\"rb\"),delimiter=','))).astype('float')\n",
    "ps=np.array(list(csv.reader(open(\"repository/repo/spec refl file.csv\",\"rb\"),delimiter=','))).astype('float')\n",
    "\n",
    "\n",
    "# constants\n",
    "b=sp.k # boltzman const(k_b) in SI\n",
    "sig = sp.sigma # stefan boltzmann constant\n",
    "c=sp.c # speed of light\n",
    "h=sp.h # Planck's const\n",
    "pi=np.pi # pi\n",
    "\n",
    "T1=1000.\n",
    "Tn=200.\n",
    "Q_tot=0\n",
    "\n",
    "A=[10.**10,10.**10,10.**10,10.**10,10.**10,10.**10,10.**10,10.**10,10.**10,10.**10,10.**10,10.**10,10.**10] #area of the element of our concern\n",
    "F=[1.,1.,1.,1.,1.,1.,1.,1.,1.,1.,1.,1.,1.,1.,1.,1.,1.,1.] # view factor from the element of our concern to the next one \n",
    "\n",
    "def planck(k, T):\n",
    "    if (h*c*k/(b*T)) < 10**(-4):\n",
    "        I = 2.*h*c*(k**3)*(b*T)/(h*c*k)\n",
    "    elif (h*c*k/(b*T)) > 10**(4):\n",
    "        I = 0.\n",
    "    else:\n",
    "        I = 2.*h*c*(k**3)/(np.exp(h*c*k/(b*T))-1)\n",
    "    return I\n",
    "    \n",
    "row= len(e_arr)      # no of rows\n",
    "col= len(e_arr[1])   # no of columns\n",
    "step=1\n",
    "for i in (0,row-1):\n",
    "    R_T=0.\n",
    "    R_T = p_arr[i,0]/((1-ps[i,0])*e_arr[i,0]) + 1/((1-ps[i,0])*(1-ps[i,1])*F[0]) \n",
    "    \n",
    "\n",
    "    for j in range(0, col-1):\n",
    "        #print j\n",
    "        R_T += (1/((2*p_arr[i,j]/((1-ps[i,j])*e_arr[i,j])) + 1/((1-t_arr[i,j])/t_arr[i,j])))**-1 + 1/((1-ps[i,j])*(1-ps[i,j+1])*F[0])\n",
    "        #print R_T\n",
    "    R_T += 1/((1-ps[i,col-2])*(1-ps[i,col-1])*F[0]) + p_arr[i,col-1]/((1-ps[i,col-1])*e_arr[i,col-1])\n",
    "\n",
    "    k=i*100\n",
    "    Q =(planck(k,T1)-planck(k,Tn))/R_T\n",
    "    Q_tot+=Q*c*pi*100\n",
    "    \n",
    "print Q_tot\n"
   ]
  },
  {
   "cell_type": "markdown",
   "metadata": {},
   "source": []
  }
 ],
 "metadata": {
  "kernelspec": {
   "display_name": "Python 2",
   "language": "python",
   "name": "python2"
  },
  "language_info": {
   "codemirror_mode": {
    "name": "ipython",
    "version": 2
   },
   "file_extension": ".py",
   "mimetype": "text/x-python",
   "name": "python",
   "nbconvert_exporter": "python",
   "pygments_lexer": "ipython2",
   "version": "2.7.9"
  }
 },
 "nbformat": 4,
 "nbformat_minor": 0
}
