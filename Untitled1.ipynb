{
 "cells": [
  {
   "cell_type": "code",
   "execution_count": 17,
   "metadata": {
    "collapsed": false
   },
   "outputs": [
    {
     "name": "stderr",
     "output_type": "stream",
     "text": [
      "/anaconda/lib/python2.7/site-packages/IPython/kernel/__main__.py:49: RuntimeWarning: divide by zero encountered in double_scalars\n",
      "/anaconda/lib/python2.7/site-packages/IPython/kernel/__main__.py:49: RuntimeWarning: invalid value encountered in double_scalars\n"
     ]
    },
    {
     "name": "stdout",
     "output_type": "stream",
     "text": [
      "[7558740000006.8369, 14757540000010.463, 19556740000010.465, 48351940000010.469, nan]\n"
     ]
    }
   ],
   "source": [
    "# infinite parallel plates, four plates with some emmissivity sandwitched between two black plates\n",
    "# including specular reflectance \n",
    "# consider E as a function of wavelength\n",
    "\n",
    "import numpy as np\n",
    "import scipy.constants as sp\n",
    "\n",
    "\n",
    "\n",
    "s=sp.k # stephan boltzman const(sigma) in SI\n",
    "c=sp.c\n",
    "h=sp.h\n",
    "\n",
    "def planck(k, T):\n",
    "    if (h*c*k/(s*T)) < 10**(-4):\n",
    "        I = 2*h*c*(k**3)*(s*T)/(h*c*k)\n",
    "    elif (h*c*k/(s*T)) > 10**(4):\n",
    "        I = 0.\n",
    "    else:\n",
    "        I = 2.*h*c*(k**3)/(np.exp(h*c*k/(s*T))-1)\n",
    "    return I\n",
    "\n",
    "T=[1000.,985.,810.,623.,200.,80.]\n",
    "\n",
    "ei=[1.,.3, .2, .1,.4,1.]\n",
    "A=[10.**10,10.**10,10.**10,10.**10,10.**10,10.**10] #area of the element of our concern\n",
    "F=[1.,1.,1.,1.,1.,1.] # view factor from the element of our concern to the next one \n",
    "p_d=[0.,.5,.4,.3,.2,0.] # diffuse reflectance of the surfaces\n",
    "p_s= [0.,.3,.4,.6,.4,0.] #specular\n",
    "\n",
    "# E1=s*(T1**4)\n",
    "# E4=s*(T4**4)\n",
    "\n",
    "#finding Q\n",
    "N=len(ei)\n",
    "E=[]\n",
    "#for i in range (1,N):\n",
    " #   Eb=E.append(1)  \n",
    "\n",
    "R_ef=[]\n",
    "Q_mat=[]\n",
    "Q=0.\n",
    "Q_k=0.\n",
    "for i in range(1,N):\n",
    "    for k in np.arange(1,6000):\n",
    "        Eb=(planck(k, T[i]))\n",
    "        #J=ei[i]*Eb+p_d[i]*H\n",
    "       \n",
    "        Q= (Eb-(J/1-p_s[i]))/(p_d[i]/((1-p_s[i])*ei[i]*A[i])) #sum of Eb in first row\n",
    "        Q_k=Q_k+Q\n",
    "\n",
    "    Q_mat.append(Q_k)\n",
    "\n",
    "print Q_mat\n",
    "\n",
    "\n",
    "                                \n",
    "#print \"***\" + str(R_ef) + \"***\"\n",
    "#pd= E1-E4\n"
   ]
  },
  {
   "cell_type": "code",
   "execution_count": null,
   "metadata": {
    "collapsed": true
   },
   "outputs": [],
   "source": []
  }
 ],
 "metadata": {
  "kernelspec": {
   "display_name": "Python 2",
   "language": "python",
   "name": "python2"
  }
 },
 "nbformat": 4,
 "nbformat_minor": 0
}
