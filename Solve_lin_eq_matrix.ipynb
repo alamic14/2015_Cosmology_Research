{
 "cells": [
  {
   "cell_type": "code",
   "execution_count": 25,
   "metadata": {
    "collapsed": false
   },
   "outputs": [
    {
     "name": "stdout",
     "output_type": "stream",
     "text": [
      "[[ 1. -1.  0.  0. -1.]\n",
      " [ 0. -1.  1.  1.  0.]\n",
      " [ 3.  2.  9.  0.  0.]\n",
      " [ 3.  2.  0.  8.  0.]\n",
      " [ 3.  0.  0.  0.  4.]]\n",
      "\n",
      "\n",
      "['1.0,-1.0,0.0,0.0,-1.0']\n",
      "['1.0', '-1.0', '0.0', '0.0', '-1.0']\n",
      "*[1.0, -1.0, 0.0, 0.0, -1.0]*\n",
      "['0.0,-1.0,1.0,1.0,0.0']\n",
      "['0.0', '-1.0', '1.0', '1.0', '0.0']\n",
      "*[0.0, -1.0, 1.0, 1.0, 0.0]*\n",
      "['3.0,2.0,9.0,0.0,0.0']\n",
      "['3.0', '2.0', '9.0', '0.0', '0.0']\n",
      "*[3.0, 2.0, 9.0, 0.0, 0.0]*\n",
      "['3.0,2.0,0.0,8.0,0.0']\n",
      "['3.0', '2.0', '0.0', '8.0', '0.0']\n",
      "*[3.0, 2.0, 0.0, 8.0, 0.0]*\n",
      "['3.0,0.0,0.0,0.0,4.0']\n",
      "['3.0', '0.0', '0.0', '0.0', '4.0']\n",
      "*[3.0, 0.0, 0.0, 0.0, 4.0]*\n",
      "[[1.0, -1.0, 0.0, 0.0, -1.0], [0.0, -1.0, 1.0, 1.0, 0.0], [3.0, 2.0, 9.0, 0.0, 0.0], [3.0, 2.0, 0.0, 8.0, 0.0], [3.0, 0.0, 0.0, 0.0, 4.0]]\n",
      "[[0], [0], [30], [30], [30]]\n",
      "\n",
      "\n",
      "[[ 5.5179704 ]\n",
      " [ 2.1564482 ]\n",
      " [ 1.01479915]\n",
      " [ 1.14164905]\n",
      " [ 3.3615222 ]]\n"
     ]
    }
   ],
   "source": [
    "import numpy as np\n",
    "R= np.array([[1.,-1.,0.,0.,-1], [0.,-1.,1.,1.,0], [3.,2.,9.,0.,0.], [3.,2.,0.,8.,0.], [3.,0.,0.,0.,4.]])\n",
    "print R\n",
    "import csv\n",
    "with open(\"R.csv\", \"wb\") as fi:\n",
    "    writer = csv.writer(fi)\n",
    "    writer.writerows(R)\n",
    "print\n",
    "print\n",
    "\n",
    "def convert_to_float(arr):\n",
    "    test_arr = []\n",
    "    for i in arr:\n",
    "        try:\n",
    "            test_arr.append(float(i))\n",
    "        #y = item.astype(np.float)\n",
    "        except:\n",
    "            #test_arr.append(i)\n",
    "            a = 1\n",
    "    return test_arr\n",
    "\n",
    "RR=[]\n",
    "with open('R.csv', 'rb') as csvfile:\n",
    "    spr = csv.reader(csvfile, delimiter=' ', quotechar='|')\n",
    "    for row in spr:\n",
    "        print row\n",
    "        tst_arr= row[0].split(',')\n",
    "        z = convert_to_float(tst_arr)\n",
    "        print tst_arr\n",
    "        print \"*\" + str(z) + \"*\"\n",
    "        RR.append(z)\n",
    "        #RR= np.vstack([RR, z])  #: doesn't work???\n",
    "        \n",
    "print RR\n",
    "RR = np.array(RR)\n",
    "from numpy.linalg import inv\n",
    "R_inv= inv(RR)\n",
    "V= ([[0],[0],[30], [30], [30]])\n",
    "print V\n",
    "print\n",
    "print\n",
    "I= np.dot(R_inv, V)\n",
    "print I"
   ]
  },
  {
   "cell_type": "code",
   "execution_count": null,
   "metadata": {
    "collapsed": true
   },
   "outputs": [],
   "source": []
  }
 ],
 "metadata": {
  "kernelspec": {
   "display_name": "Python 2",
   "language": "python",
   "name": "python2"
  },
  "language_info": {
   "codemirror_mode": {
    "name": "ipython",
    "version": 2
   },
   "file_extension": ".py",
   "mimetype": "text/x-python",
   "name": "python",
   "nbconvert_exporter": "python",
   "pygments_lexer": "ipython2",
   "version": "2.7.9"
  }
 },
 "nbformat": 4,
 "nbformat_minor": 0
}
