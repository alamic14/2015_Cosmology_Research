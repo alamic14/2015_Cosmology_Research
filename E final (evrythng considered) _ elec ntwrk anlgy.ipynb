{
 "cells": [
  {
   "cell_type": "markdown",
   "metadata": {
    "collapsed": false
   },
   "source": [
    "import numpy as np\n",
    "import scipy.constants as sp\n",
    "import csv\n",
    "\n",
    "# emmisivity, refl, trans  csv data transferred into matrix \n",
    "e_arr=np.array(list(csv.reader(open(\"repository/repo/TER_file_cryorun7_emiss.csv\",\"rb\"),delimiter=','))).astype('float')\n",
    "p_arr=np.array(list(csv.reader(open(\"repository/repo/TER_file_cryorun7_refl.csv\",\"rb\"),delimiter=','))).astype('float')\n",
    "t_arr=np.array(list(csv.reader(open(\"repository/repo/TER_file_cryorun7_trans.csv\",\"rb\"),delimiter=','))).astype('float')\n",
    "ps=np.array(list(csv.reader(open(\"repository/repo/spec refl.csv\",\"rb\"),delimiter=','))).astype('float')\n",
    "\n",
    "\n",
    "# constants\n",
    "b=sp.k # boltzman const(k_b) in SI\n",
    "sig = sp.sigma # stefan boltzmann constant\n",
    "c=sp.c # speed of light\n",
    "h=sp.h # Planck's const\n",
    "pi=np.pi # pi\n",
    "\n",
    "T1=1000.\n",
    "Tn=200.\n",
    "Q_tot=0.\n",
    "\n",
    "A=[10.**10,10.**10,10.**10,10.**10,10.**10,10.**10,10.**10,10.**10,10.**10,10.**10,10.**10,10.**10,10.**10] #area of the element of our concern\n",
    "F=[1.,1.,1.,1.,1.,1.,1.,1.,1.,1.,1.,1.,1.,1.,1.,1.,1.,1.] # view factor from the element of our concern to the next one \n",
    "\n",
    "def planck(k, T):\n",
    "    if (h*c*k/(b*T)) < 10**(-4):\n",
    "        I = 2.*h*c*(k**3)*(b*T)/(h*c*k)\n",
    "    elif (h*c*k/(b*T)) > 10**(4):\n",
    "        I = 0.\n",
    "    else:\n",
    "        I = 2.*h*c*(k**3)/(np.exp(h*c*k/(b*T))-1)\n",
    "    return I\n",
    "\n",
    "def E_calc(i,j,Q):\n",
    "        j=0\n",
    "        #if t_arr[i,j]==0:\n",
    "            #t_arr[i,j]=10**-4\n",
    "        #if e_arr[i,j]==0:\n",
    "            #e_arr[i,j]=10**-4\n",
    "        #if (1-t_arr[i,j])==0:\n",
    "            #R3=10**-4\n",
    "        #if (1-e_arr[i,j])==0:\n",
    "            #R1=R2=10**-4\n",
    "        R1=(1-e_arr[i,j])/e_arr[i,j]\n",
    "        R2=R1\n",
    "        R3=(1-t_arr[i,j])/t_arr[i,j]\n",
    "        EE=\n",
    "        QQ=Q#*(R1+R2+R3)/R3\n",
    "        #if R1==0:\n",
    "           # EN=QQ\n",
    "        #else:\n",
    "        EN=EE+(QQ*R1)\n",
    "        return EN\n",
    "    \n",
    "row= len(e_arr)      # no of rows\n",
    "col= len(e_arr[1])   # no of columns\n",
    "step=1\n",
    "E_k=[]\n",
    "for i in range(0,row):\n",
    "    R_T=0.\n",
    "    R_T = p_arr[i,0]/((1-ps[i,0])*e_arr[i,0]) + 1/((1-ps[i,0])*(1-ps[i,1])*F[1]) \n",
    "\n",
    "    for j in range(0, col):\n",
    "        if t_arr[i,j]==0:\n",
    "            t_arr[i,j]=10**-4\n",
    "        if j==12:\n",
    "            ps1=0\n",
    "        else:\n",
    "            ps1=ps[i,j+1]\n",
    "        R_T += (((1-ps[i,j])*e_arr[i,j])/2*p_arr[i,j]) + (1-t_arr[i,j])/t_arr[i,j] + 1/((1-ps[i,j])*(1-ps1)*F[0])\n",
    "        #print R_T, '*',i,j\n",
    "\n",
    "    R_T += 1/((1-ps[i,j-2])*(1-ps[i,j-1])*F[0]) + p_arr[i,j-1]/((1-ps[i,j-1])*e_arr[i,j-1])\n",
    "\n",
    "    k=(i+1)*100.\n",
    "    Q =(planck(k,T1)-planck(k,Tn))/R_T\n",
    "    \n",
    "    Q_tot+=Q*c*pi*100.\n",
    "    x=E_calc(i,j,Q)\n",
    "    E_k.append(x)\n",
    "\n",
    "      \n",
    "print Q_tot\n",
    "print R_T\n",
    "print E_k"
   ]
  },
  {
   "cell_type": "markdown",
   "metadata": {},
   "source": [
    "print len(p_arr), len(p_arr[2])\n",
    "print len(t_arr), len(t_arr[2])"
   ]
  },
  {
   "cell_type": "code",
   "execution_count": 1,
   "metadata": {
    "collapsed": false
   },
   "outputs": [
    {
     "ename": "NameError",
     "evalue": "name 'xrange' is not defined",
     "output_type": "error",
     "traceback": [
      "\u001b[1;31m---------------------------------------------------------------------------\u001b[0m",
      "\u001b[1;31mNameError\u001b[0m                                 Traceback (most recent call last)",
      "\u001b[1;32m<ipython-input-1-bbe8a54d5ea8>\u001b[0m in \u001b[0;36m<module>\u001b[1;34m()\u001b[0m\n\u001b[0;32m      1\u001b[0m \u001b[1;32mimport\u001b[0m \u001b[0mmatplotlib\u001b[0m\u001b[1;33m.\u001b[0m\u001b[0mpyplot\u001b[0m \u001b[1;32mas\u001b[0m \u001b[0mpyt\u001b[0m\u001b[1;33m\u001b[0m\u001b[0m\n\u001b[0;32m      2\u001b[0m \u001b[0mget_ipython\u001b[0m\u001b[1;33m(\u001b[0m\u001b[1;33m)\u001b[0m\u001b[1;33m.\u001b[0m\u001b[0mmagic\u001b[0m\u001b[1;33m(\u001b[0m\u001b[1;34m'matplotlib inline'\u001b[0m\u001b[1;33m)\u001b[0m\u001b[1;33m\u001b[0m\u001b[0m\n\u001b[1;32m----> 3\u001b[1;33m \u001b[0mk\u001b[0m \u001b[1;33m=\u001b[0m \u001b[0mlist\u001b[0m\u001b[1;33m(\u001b[0m\u001b[0mxrange\u001b[0m\u001b[1;33m(\u001b[0m\u001b[1;36m6000\u001b[0m\u001b[1;33m)\u001b[0m\u001b[1;33m)\u001b[0m\u001b[1;33m\u001b[0m\u001b[0m\n\u001b[0m\u001b[0;32m      4\u001b[0m \u001b[0mpyt\u001b[0m\u001b[1;33m.\u001b[0m\u001b[0mplot\u001b[0m\u001b[1;33m(\u001b[0m\u001b[0mk\u001b[0m\u001b[1;33m,\u001b[0m\u001b[0mE_k\u001b[0m\u001b[1;33m)\u001b[0m\u001b[1;33m\u001b[0m\u001b[0m\n\u001b[0;32m      5\u001b[0m \u001b[0mpyt\u001b[0m\u001b[1;33m.\u001b[0m\u001b[0mshow\u001b[0m\u001b[1;33m(\u001b[0m\u001b[1;33m)\u001b[0m\u001b[1;33m\u001b[0m\u001b[0m\n",
      "\u001b[1;31mNameError\u001b[0m: name 'xrange' is not defined"
     ]
    }
   ],
   "source": [
    "import matplotlib.pyplot as pyt\n",
    "%matplotlib inline\n",
    "k = list(xrange(6000))\n",
    "pyt.plot(k,E_k)\n",
    "pyt.show()"
   ]
  },
  {
   "cell_type": "code",
   "execution_count": 75,
   "metadata": {
    "collapsed": false
   },
   "outputs": [],
   "source": [
    "#with open('plot 12.csv', 'wb') as myfile:\n",
    "    #wr = csv.writer(myfile, quoting=csv.QUOTE_ALL)\n",
    "   # wr.writerow(E_k)"
   ]
  },
  {
   "cell_type": "code",
   "execution_count": null,
   "metadata": {
    "collapsed": true
   },
   "outputs": [],
   "source": []
  }
 ],
 "metadata": {
  "kernelspec": {
   "display_name": "Python 3",
   "language": "python",
   "name": "python3"
  },
  "language_info": {
   "codemirror_mode": {
    "name": "ipython",
    "version": 3
   },
   "file_extension": ".py",
   "mimetype": "text/x-python",
   "name": "python",
   "nbconvert_exporter": "python",
   "pygments_lexer": "ipython3",
   "version": "3.4.3"
  }
 },
 "nbformat": 4,
 "nbformat_minor": 0
}
