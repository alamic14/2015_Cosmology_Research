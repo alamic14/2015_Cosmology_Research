{
 "cells": [
  {
   "cell_type": "code",
   "execution_count": 3,
   "metadata": {
    "collapsed": false
   },
   "outputs": [
    {
     "name": "stdout",
     "output_type": "stream",
     "text": [
      "[ 6.50086259]\n"
     ]
    }
   ],
   "source": [
    "from math import *\n",
    "from scipy import optimize\n",
    "import numpy as np\n",
    "from scipy import *\n",
    "import scipy.linalg\n",
    "import scipy.interpolate\n",
    "\n",
    "def bounded_residuals(z, w, p, model, bounds = -1, weight = -1):\n",
    "    rednum = 1.e1\n",
    "    if not ilen(p):\n",
    "        p = [p]\n",
    "    if bounds == -1 or not ilen(p) == ilen(bounds):\n",
    "        bounds = [[0,0] for i in range(len(p))]\n",
    "    weight = 1. if ilen(weight) == 1 else weight\n",
    "    if within_bounds(p, bounds):\n",
    "        return (model(z, p) - w)/weight\n",
    "    else:\n",
    "        if not ilen(z):\n",
    "            return rednum*(model(z,p) - w)/weight\n",
    "        else:\n",
    "            return rednum*(model(z,p) - w)/weight\n",
    "\n",
    "def fitfunc(x, y, func, params, bounds = -1, weights = -1, full_output = False):\n",
    "    x = array(x)\n",
    "    y = array(y)\n",
    "    weights = np.array([1. for i in range(len(x))]) if ilen(weights) == 0 else weights\n",
    "    errfunc = lambda p, z, w, wght: bounded_residuals(z, w, p, func, bounds = bounds, weight = wght)\n",
    "    if not full_output:\n",
    "        p1, success = optimize.leastsq(errfunc, params[:], args=(x,y,weights), full_output=False)\n",
    "        if not success:\n",
    "            print ('Fit failed')\n",
    "            return [0 for i in range(len(params))]\n",
    "        return p1\n",
    "    else:\n",
    "        p1, cov, retval, mesg, info = optimize.leastsq(errfunc, params[:], args=(x,y,weights), full_output=True)\n",
    "        resvar = np.array(np.array(residuals(x, y, func, p1))/weights)**2\n",
    "        resvar = (resvar.sum()/(len(resvar) - len(p1)))\n",
    "        cov = np.matrix(cov)*resvar if not cov == None else None\n",
    "        return p1, cov\n",
    "\n",
    "def within_bounds(p, b):\n",
    "    if not ilen(p):\n",
    "        p = [p]\n",
    "        b = [b]\n",
    "    counter = -1\n",
    "    value = True\n",
    "    for pa in p:\n",
    "        counter += 1\n",
    "        if max(b[counter]) == min(b[counter]):\n",
    "            value *= True\n",
    "        elif pa < max(b[counter]) and pa > min(b[counter]):\n",
    "            value *= True\n",
    "        else:\n",
    "            value *= False\n",
    "    return value\n",
    "\n",
    "def ilen(a):\n",
    "    try:\n",
    "        n = len(a)\n",
    "    except:\n",
    "        n = 0\n",
    "    return n\n",
    "\n",
    "#Needed code will look like below\n",
    "\n",
    "def test(x, a): #Define the function that you want to fit to\n",
    "    x = np.array(x)\n",
    "    return a*x**2\n",
    "\n",
    "x = np.arange(0,10,0.01) #Data independent variable\n",
    "data = test(x,6.5) + .1*np.random.rand(len(x)) #Data dependent variable (with noise)\n",
    "fits = fitfunc(x, data, test, [1.]) #Finding the fits for the non-data parameters in test. If test has more than one functional parameter, say coefficients to a polynomial or whatnot, the code will find the fits for all of the parameters\n",
    "print (fits)"
   ]
  },
  {
   "cell_type": "code",
   "execution_count": null,
   "metadata": {
    "collapsed": true
   },
   "outputs": [],
   "source": []
  }
 ],
 "metadata": {
  "kernelspec": {
   "display_name": "Python 3",
   "language": "python",
   "name": "python3"
  },
  "language_info": {
   "codemirror_mode": {
    "name": "ipython",
    "version": 3
   },
   "file_extension": ".py",
   "mimetype": "text/x-python",
   "name": "python",
   "nbconvert_exporter": "python",
   "pygments_lexer": "ipython3",
   "version": "3.4.3"
  }
 },
 "nbformat": 4,
 "nbformat_minor": 0
}
