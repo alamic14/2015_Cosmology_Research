{
 "cells": [
  {
   "cell_type": "code",
   "execution_count": 4,
   "metadata": {
    "collapsed": false
   },
   "outputs": [
    {
     "name": "stdout",
     "output_type": "stream",
     "text": [
      "11119047632.9\n",
      "4.97001462586e-06\n",
      "5.09914872569e-06\n"
     ]
    }
   ],
   "source": [
    "# infinite parallel plates, four plates with some emmissivity sandwitched between two black plates\n",
    "# including specular reflectance \n",
    "# consider E as a function of wavelength\n",
    "\n",
    "import numpy as np\n",
    "import scipy.constants as sp\n",
    "\n",
    "\n",
    "\n",
    "s=sp.k # boltzman const(k_b) in SI\n",
    "sig = 5.67*10**(-8) # stefan boltzmann constant\n",
    "c=sp.c\n",
    "h=sp.h\n",
    "pi=np.pi\n",
    "\n",
    "def planck(k, T):\n",
    "    if (h*c*k/(s*T)) < 10**(-4):\n",
    "        I = 2.*h*c*(k**3)*(s*T)/(h*c*k)\n",
    "    elif (h*c*k/(s*T)) > 10**(4):\n",
    "        I = 0.\n",
    "    else:\n",
    "        I = 2.*h*c*(k**3)/(np.exp(h*c*k/(s*T))-1)\n",
    "    return I\n",
    "\n",
    "T=[1000.,985.,810.,623.,200.,80.]\n",
    "\n",
    "ei=[1.,.3, .2, .1,.4,1.]\n",
    "A=[10.**10,10.**10,10.**10,10.**10,10.**10,10.**10] #area of the element of our concern\n",
    "F=[1.,1.,1.,1.,1.,1.] # view factor from the element of our concern to the next one \n",
    "p_d=[0.,.5,.4,.3,.2,0.] # diffuse reflectance of the surfaces\n",
    "p_s= [0.,.3,.4,.6,.4,0.] #specular\n",
    "\n",
    "\n",
    "N=len(ei)\n",
    "n=N-1\n",
    "E=[]\n",
    "\n",
    "\n",
    "\n",
    "R_ef=[]\n",
    "Q_mat=[]\n",
    "Q=0.\n",
    "Q_k=0.\n",
    "R_ef=0.\n",
    "E1=0.\n",
    "EN=0.\n",
    "\n",
    "\n",
    "    \n",
    "for k in np.arange(1,6000,1):\n",
    "    R_ef = 0.\n",
    "    for i in range(0,n):\n",
    "        R_ef=R_ef+(p_d[i]/(1-p_s[i])*ei[i]*A[i])+(1/((1-p_s[i])*F[i]*(1-p_s[i+1])))+(p_d[i+1]/(1-p_s[i+1])*ei[i+1]*A[i+1])\n",
    "    \n",
    "    p=k*100.\n",
    "        # wrong approach below in comment... J and H when added in this step adds one more layer of complexity    \n",
    "        #Eb=(planck(k, T[i]))\n",
    "            #J=ei[i]*Eb+p_d[i]*H\n",
    "    \n",
    "    E1= planck(p,T[0])\n",
    "    EN= planck(p,T[n])    \n",
    "    Q= Q+((E1-EN)/R_ef)*pi*c*100\n",
    "\n",
    "print R_ef\n",
    "print Q # Q from graph\n",
    "Q=(((sig*T[0]**4)-(sig*T[n]**4))/R_ef)    \n",
    "print Q # Q from the regular approach  considering I/E as constant function (with value sigma*T^4) of wavelength) "
   ]
  },
  {
   "cell_type": "code",
   "execution_count": null,
   "metadata": {
    "collapsed": true
   },
   "outputs": [],
   "source": []
  }
 ],
 "metadata": {
  "kernelspec": {
   "display_name": "Python 2",
   "language": "python",
   "name": "python2"
  },
  "language_info": {
   "codemirror_mode": {
    "name": "ipython",
    "version": 2
   },
   "file_extension": ".py",
   "mimetype": "text/x-python",
   "name": "python",
   "nbconvert_exporter": "python",
   "pygments_lexer": "ipython2",
   "version": "2.7.9"
  }
 },
 "nbformat": 4,
 "nbformat_minor": 0
}
