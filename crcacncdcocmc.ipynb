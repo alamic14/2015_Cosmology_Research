{
 "cells": [
  {
   "cell_type": "code",
   "execution_count": 3,
   "metadata": {
    "collapsed": false
   },
   "outputs": [
    {
     "name": "stdout",
     "output_type": "stream",
     "text": [
      "[[  9.79091655e-22   3.48776173e-23   5.13427923e-22 ...,   1.47010784e-23\n",
      "    5.51946342e-22   9.92556955e-22]\n",
      " [  9.85178975e-22   7.65664633e-22   9.89145614e-22 ...,   9.75640010e-22\n",
      "    3.74717366e-22   1.33174771e-22]\n",
      " [  5.76738005e-22   1.34725721e-22   7.82518508e-22 ...,   6.65422864e-22\n",
      "    4.72591336e-22   6.02392737e-22]\n",
      " ..., \n",
      " [  8.89958623e-22   5.74220647e-22   6.21135102e-22 ...,   8.46748934e-22\n",
      "    3.44458678e-22   2.56205778e-23]\n",
      " [  3.19265003e-22   5.04261928e-23   4.14240524e-22 ...,   1.68741735e-22\n",
      "    9.66692821e-22   3.60315047e-22]\n",
      " [  8.60585492e-22   8.32187213e-22   6.41786973e-22 ...,   8.50166418e-22\n",
      "    2.37321025e-22   5.87854871e-22]]\n"
     ]
    }
   ],
   "source": [
    "import numpy as np\n",
    "A=[]\n",
    "A=np.random.rand(6000,13)\n",
    "AA= A*(10**-21)\n",
    "print AA"
   ]
  },
  {
   "cell_type": "code",
   "execution_count": null,
   "metadata": {
    "collapsed": true
   },
   "outputs": [],
   "source": []
  }
 ],
 "metadata": {
  "kernelspec": {
   "display_name": "Python 2",
   "language": "python",
   "name": "python2"
  },
  "language_info": {
   "codemirror_mode": {
    "name": "ipython",
    "version": 2
   },
   "file_extension": ".py",
   "mimetype": "text/x-python",
   "name": "python",
   "nbconvert_exporter": "python",
   "pygments_lexer": "ipython2",
   "version": "2.7.9"
  }
 },
 "nbformat": 4,
 "nbformat_minor": 0
}
