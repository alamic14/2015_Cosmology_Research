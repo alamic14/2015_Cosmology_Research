{
 "cells": [
  {
   "cell_type": "code",
   "execution_count": 16,
   "metadata": {
    "collapsed": false
   },
   "outputs": [
    {
     "name": "stdout",
     "output_type": "stream",
     "text": [
      "-0.0546377629513\n",
      "600000\n",
      "4093.50287489\n"
     ]
    },
    {
     "name": "stderr",
     "output_type": "stream",
     "text": [
      "/anaconda/lib/python2.7/site-packages/IPython/kernel/__main__.py:53: RuntimeWarning: divide by zero encountered in double_scalars\n"
     ]
    }
   ],
   "source": [
    "import csv\n",
    "import numpy as np\n",
    "import math as m\n",
    "\n",
    "h = 6.626*10**-34\n",
    "c = 2.998*10**8\n",
    "b = 1.381*10**-23\n",
    "sigma = 5.670*10**-8\n",
    "\n",
    "def planck(k, T):\n",
    "    if (h*c*k/(b*T)) < 10**(-4):\n",
    "        I = 2.*h*c*(k**3)*(b*T)/(h*c*k)\n",
    "    elif (h*c*k/(b*T)) > 10**(4):\n",
    "        I = 0.\n",
    "    else:\n",
    "        I = 2.*h*c*(k**3)/(np.exp(h*c*k/(b*T))-1)\n",
    "    return I\n",
    "\n",
    "def csv_reader(input_file):\n",
    "    \n",
    "    reader = csv.reader(open(input_file, \"rb\"), delimiter=\",\")\n",
    "    a = list(reader)        \n",
    "    a_list = np.array(a).astype('float')\n",
    "    return(a_list)\n",
    "            \n",
    "e = csv_reader(\"repository/repo/TER_file_cryorun7_emiss.csv\")\n",
    "d_r = csv_reader(\"repository/repo/TER_file_cryorun7_refl.csv\")\n",
    "s_r = csv_reader(\"repository/repo/spec refl.csv\")\n",
    "t = csv_reader(\"repository/repo/TER_file_cryorun7_trans.csv\")\n",
    "\n",
    "\n",
    "\n",
    "n_e = len(e[0])\n",
    "n_k = len(e)\n",
    "view_factor = 1\n",
    "step_size = 100\n",
    "T1 = 100\n",
    "Tn = 200\n",
    "\n",
    "i = 0\n",
    "k = 0\n",
    "Q_total = 0\n",
    "for i in range(0, n_k):\n",
    "    \n",
    "    R_T = 0\n",
    "    R_T += d_r[i, 0]/((1-s_r[i, 0])*e[i, 0]) + 1/((1-s_r[i, 0])*(1-s_r[i, 1])*view_factor)\n",
    "    j = 1\n",
    "    for j in range(1, n_e-1):\n",
    "        if t[i,j]==0 and e[i,j]==0:\n",
    "            t[i,j]=10**-4\n",
    "        if e[i,j]==0:\n",
    "            e[i,j]=10**-4\n",
    "        R_T += (1/((2*d_r[i, j]/((1-s_r[i, j])*e[i, j])) + 1/((1-t[i, j])/t[i, j])))**-1 + 1/((1-s_r[i, j])*(1-s_r[i, j+1])*view_factor)\n",
    "\n",
    "    R_T += 1/((1-s_r[i, n_e-2])*(1-s_r[i, n_e-1])*view_factor) + d_r[i, n_e-1]/((1-s_r[i, n_e-1])*e[i, n_e-1])\n",
    "    \n",
    "    k += step_size\n",
    "    Q = (planck(k,T1)-planck(k,Tn))/R_T\n",
    "    \n",
    "    Q_total += Q*c*step_size*m.pi\n",
    "    \n",
    "print Q_total    \n",
    "print k\n",
    "print R_T"
   ]
  },
  {
   "cell_type": "code",
   "execution_count": null,
   "metadata": {
    "collapsed": true
   },
   "outputs": [],
   "source": []
  }
 ],
 "metadata": {
  "kernelspec": {
   "display_name": "Python 2",
   "language": "python",
   "name": "python2"
  },
  "language_info": {
   "codemirror_mode": {
    "name": "ipython",
    "version": 2
   },
   "file_extension": ".py",
   "mimetype": "text/x-python",
   "name": "python",
   "nbconvert_exporter": "python",
   "pygments_lexer": "ipython2",
   "version": "2.7.9"
  }
 },
 "nbformat": 4,
 "nbformat_minor": 0
}
