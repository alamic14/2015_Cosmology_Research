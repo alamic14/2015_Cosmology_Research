{
 "cells": [
  {
   "cell_type": "code",
   "execution_count": 1,
   "metadata": {
    "collapsed": false
   },
   "outputs": [
    {
     "name": "stdout",
     "output_type": "stream",
     "text": [
      "[[1, 2, 'a', 'b'], [3, 4, 'c', 'd'], [5, 6, 'e', 'f'], [7, 8, 'g', 'h']]\n",
      "\n",
      "['1,2,a,b']\n",
      "['1', '2', 'a', 'b']\n",
      "*[1.0, 2.0]*\n",
      "['3,4,c,d']\n",
      "['3', '4', 'c', 'd']\n",
      "*[3.0, 4.0]*\n",
      "['5,6,e,f']\n",
      "['5', '6', 'e', 'f']\n",
      "*[5.0, 6.0]*\n",
      "['7,8,g,h']\n",
      "['7', '8', 'g', 'h']\n",
      "*[7.0, 8.0]*\n",
      "[1.0, 3.0, 5.0, 7.0] [2.0, 4.0, 6.0, 8.0]\n"
     ]
    },
    {
     "data": {
      "image/png": "[encoded data removed]",
      "text/plain": [
       "<matplotlib.figure.Figure at 0x1060c6250>"
      ]
     },
     "metadata": {},
     "output_type": "display_data"
    }
   ],
   "source": [
    "import numpy as np\n",
    "list=[[1,2,'a',\"b\"], [3,4,\"c\",\"d\"], [5,6,'e','f'], [7,8,'g','h']]\n",
    "print list\n",
    "import csv\n",
    "for x in range(1, 2):\n",
    "    print\n",
    "\n",
    "with open(\"list.csv\", \"wb\") as fi:\n",
    "    writer = csv.writer(fi)\n",
    "    writer.writerows(list)\n",
    "x = []\n",
    "y = []\n",
    "def convert_to_float(arr):\n",
    "    test_arr = []\n",
    "    for i in arr:\n",
    "        try:\n",
    "            test_arr.append(float(i))\n",
    "        #y = item.astype(np.float)\n",
    "        except:\n",
    "            #test_arr.append(i)\n",
    "            a = 1\n",
    "    return test_arr\n",
    "\n",
    "\n",
    "\n",
    "with open('list.csv', 'rb') as csvfile:\n",
    "    spr = csv.reader(csvfile, delimiter=' ', quotechar='|')\n",
    "    #for row in spr:\n",
    "        #print row\n",
    "        #print ', '.join(row)\n",
    "        \n",
    "    for row in spr:\n",
    "        print row\n",
    "        tst_arr= row[0].split(',')\n",
    "        z = convert_to_float(tst_arr)\n",
    "        print tst_arr\n",
    "        print \"*\" + str(z) + \"*\"\n",
    "        x.append(z[0])\n",
    "        y.append(z[1])\n",
    "    #now : change each element of tst_arr to float (if possible) and make the new 2x2 array \n",
    "        #for item in tst_arr:\n",
    "        #    y = convert_to_float(item)\n",
    "            \n",
    "        #    print y\n",
    "print x, y\n",
    "\n",
    "       \n",
    "        \n",
    "#import matplotlib\n",
    "# seperate the two columns into two variables and plot using \n",
    "import matplotlib.pyplot as pyt\n",
    "%matplotlib inline\n",
    "pyt.plot(x, y)\n",
    "pyt.show()"
   ]
  },
  {
   "cell_type": "code",
   "execution_count": 57,
   "metadata": {
    "collapsed": true
   },
   "outputs": [],
   "source": [
    "import numpy as np"
   ]
  },
  {
   "cell_type": "code",
   "execution_count": null,
   "metadata": {
    "collapsed": true
   },
   "outputs": [],
   "source": [
    "split lookup"
   ]
  }
 ],
 "metadata": {
  "kernelspec": {
   "display_name": "Python 2",
   "language": "python",
   "name": "python2"
  },
  "language_info": {
   "codemirror_mode": {
    "name": "ipython",
    "version": 2
   },
   "file_extension": ".py",
   "mimetype": "text/x-python",
   "name": "python",
   "nbconvert_exporter": "python",
   "pygments_lexer": "ipython2",
   "version": "2.7.9"
  }
 },
 "nbformat": 4,
 "nbformat_minor": 0
}
