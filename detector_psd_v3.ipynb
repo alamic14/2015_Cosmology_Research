{
 "cells": [
  {
   "cell_type": "code",
   "execution_count": 24,
   "metadata": {
    "collapsed": false
   },
   "outputs": [
    {
     "name": "stdout",
     "output_type": "stream",
     "text": [
      "[['Record Length' '3000' '' 'Source' 'CH1']\n",
      " ['Sample Interval' '0.0000099999994' '' 'Second' 'Volt']\n",
      " ['Vertical Units' 'CH1:V' '' '-0.015000000000' '-0.00160']\n",
      " ..., \n",
      " ['' '' '' ' 0.014970000000' '-0.00144']\n",
      " ['' '' '' ' 0.014980000000' '-0.00160']\n",
      " ['' '' '' ' 0.014990000000' '-0.00136']]\n",
      "\n",
      "\n",
      "\n",
      "[['-0.015000000000' '-0.00160']\n",
      " ['-0.014990000000' '-0.00144']\n",
      " ['-0.014980000000' '-0.00144']\n",
      " ..., \n",
      " [' 0.014970000000' '-0.00144']\n",
      " [' 0.014980000000' '-0.00160']\n",
      " [' 0.014990000000' '-0.00136']]\n",
      "\n",
      "[[-0.015   -0.0016 ]\n",
      " [-0.01499 -0.00144]\n",
      " [-0.01498 -0.00144]\n",
      " ..., \n",
      " [ 0.01497 -0.00144]\n",
      " [ 0.01498 -0.0016 ]\n",
      " [ 0.01499 -0.00136]]\n",
      "\n",
      "\n",
      "\n",
      "[[-0.015  ]\n",
      " [-0.01499]\n",
      " [-0.01498]\n",
      " ..., \n",
      " [ 0.01497]\n",
      " [ 0.01498]\n",
      " [ 0.01499]]\n",
      "\n",
      "\n",
      "\n",
      "[[-0.0016 ]\n",
      " [-0.00144]\n",
      " [-0.00144]\n",
      " ..., \n",
      " [-0.00144]\n",
      " [-0.0016 ]\n",
      " [-0.00136]]\n",
      "\n",
      "\n",
      "\n",
      "[[  0.00000000e+00]\n",
      " [  1.00000000e-05]\n",
      " [  2.00000000e-05]\n",
      " ..., \n",
      " [  2.99700000e-02]\n",
      " [  2.99800000e-02]\n",
      " [  2.99900000e-02]]\n"
     ]
    }
   ],
   "source": [
    "import numpy as np\n",
    "import csv\n",
    "import math as m\n",
    "import scipy.constants as sp\n",
    "import numpy as np\n",
    "import matplotlib.pyplot as plt\n",
    "det=np.array(list(csv.reader(open(\"Data for detector and source/detector/ADS00001.CSV\",\"r\"),delimiter=',')))\n",
    "print (det)\n",
    "print()\n",
    "print()\n",
    "print()\n",
    "x = np.delete(det, (range(0,2)), axis=0)\n",
    "x = np.delete(x, (range(0,3)), axis=1)\n",
    "y = x.astype(np.float)\n",
    "# alternative for delete.. time efficient\n",
    "#arr=[]\n",
    "#arr=det\n",
    "#arr[arr.all(range(10,len(det)))]        \n",
    "\n",
    "print (x)\n",
    "#y=np.array(x)    # int32 ?\n",
    "print()\n",
    "print (y)\n",
    "print()\n",
    "print()\n",
    "print()\n",
    "aaa1= np.delete(y, 1, axis=1)\n",
    "aaa2= np.delete(y, 0, axis=1)\n",
    "print(aaa1)\n",
    "print()\n",
    "print()\n",
    "print()\n",
    "print(aaa2)\n",
    "print()\n",
    "print()\n",
    "print()\n",
    "\n",
    "#for i in range(0,len(aaa1)):\n",
    "#    while ( aaa1[i]<0.):\n",
    "#        aaa1[i]= aaa1[i]*-1.\n",
    "#    while ( aaa1[i]>=0.  ):\n",
    "#        aaa1[i]= aaa1[i]+0.000009999996\n",
    "\n",
    "aaa1= aaa1+0.015000000000\n",
    "print (aaa1)\n",
    "\n",
    "        \n",
    "#np.square(aaa2)\n"
   ]
  },
  {
   "cell_type": "code",
   "execution_count": 25,
   "metadata": {
    "collapsed": false
   },
   "outputs": [],
   "source": [
    "import numpy as np\n",
    "from scipy import signal\n",
    "import matplotlib.pyplot as plt\n"
   ]
  },
  {
   "cell_type": "code",
   "execution_count": 26,
   "metadata": {
    "collapsed": false
   },
   "outputs": [
    {
     "name": "stdout",
     "output_type": "stream",
     "text": [
      "[[  0.00000000e+00]\n",
      " [  1.44000000e-08]\n",
      " [  2.88000000e-08]\n",
      " ..., \n",
      " [  4.31568000e-05]\n",
      " [  4.79680000e-05]\n",
      " [  4.07864000e-05]]\n",
      "3000\n"
     ]
    }
   ],
   "source": [
    "fs = 1000\n",
    "aaa2=abs(aaa2)\n",
    "x=np.multiply(aaa1, aaa2)\n",
    "print(x)\n",
    "len(x)\n",
    "\n",
    "x.resize((1,3000))\n",
    "x=x.tolist()\n",
    "#print (x)\n",
    "#s = set(x)\n",
    "x=sum(x, [])\n",
    "print (len(x))\n",
    "#print(x)"
   ]
  },
  {
   "cell_type": "code",
   "execution_count": 27,
   "metadata": {
    "collapsed": false
   },
   "outputs": [
    {
     "name": "stdout",
     "output_type": "stream",
     "text": [
      "1.76089557843e-10\n"
     ]
    },
    {
     "ename": "TclError",
     "evalue": "no display name and no $DISPLAY environment variable",
     "output_type": "error",
     "traceback": [
      "\u001b[1;31m---------------------------------------------------------------------------\u001b[0m",
      "\u001b[1;31mTclError\u001b[0m                                  Traceback (most recent call last)",
      "\u001b[1;32m<ipython-input-27-87d1086e4a6f>\u001b[0m in \u001b[0;36m<module>\u001b[1;34m()\u001b[0m\n\u001b[0;32m      1\u001b[0m \u001b[0mf\u001b[0m\u001b[1;33m,\u001b[0m \u001b[0mPxx_den\u001b[0m \u001b[1;33m=\u001b[0m \u001b[0msignal\u001b[0m\u001b[1;33m.\u001b[0m\u001b[0mperiodogram\u001b[0m\u001b[1;33m(\u001b[0m\u001b[0mx\u001b[0m\u001b[1;33m,\u001b[0m \u001b[0mfs\u001b[0m\u001b[1;33m)\u001b[0m\u001b[1;33m\u001b[0m\u001b[0m\n\u001b[0;32m      2\u001b[0m \u001b[0mprint\u001b[0m \u001b[1;33m(\u001b[0m\u001b[0mnp\u001b[0m\u001b[1;33m.\u001b[0m\u001b[0mtrapz\u001b[0m\u001b[1;33m(\u001b[0m\u001b[0mPxx_den\u001b[0m\u001b[1;33m,\u001b[0m \u001b[0mx\u001b[0m\u001b[1;33m=\u001b[0m\u001b[0mf\u001b[0m\u001b[1;33m,\u001b[0m \u001b[0mdx\u001b[0m\u001b[1;33m=\u001b[0m\u001b[1;36m.005\u001b[0m\u001b[1;33m)\u001b[0m\u001b[1;33m)\u001b[0m\u001b[1;33m\u001b[0m\u001b[0m\n\u001b[1;32m----> 3\u001b[1;33m \u001b[0mplt\u001b[0m\u001b[1;33m.\u001b[0m\u001b[0msemilogy\u001b[0m\u001b[1;33m(\u001b[0m\u001b[0mf\u001b[0m\u001b[1;33m,\u001b[0m \u001b[0mPxx_den\u001b[0m\u001b[1;33m)\u001b[0m\u001b[1;33m\u001b[0m\u001b[0m\n\u001b[0m\u001b[0;32m      4\u001b[0m \u001b[0mplt\u001b[0m\u001b[1;33m.\u001b[0m\u001b[0mylim\u001b[0m\u001b[1;33m(\u001b[0m\u001b[1;33m[\u001b[0m\u001b[1;36m1e-16\u001b[0m\u001b[1;33m,\u001b[0m \u001b[1;36m1e0\u001b[0m\u001b[1;33m]\u001b[0m\u001b[1;33m)\u001b[0m\u001b[1;33m\u001b[0m\u001b[0m\n\u001b[0;32m      5\u001b[0m \u001b[0mplt\u001b[0m\u001b[1;33m.\u001b[0m\u001b[0mxlabel\u001b[0m\u001b[1;33m(\u001b[0m\u001b[1;34m'frequency [Hz]'\u001b[0m\u001b[1;33m)\u001b[0m\u001b[1;33m\u001b[0m\u001b[0m\n",
      "\u001b[1;32m/usr/local/lib/python3.4/dist-packages/matplotlib/pyplot.py\u001b[0m in \u001b[0;36msemilogy\u001b[1;34m(*args, **kwargs)\u001b[0m\n\u001b[0;32m   3276\u001b[0m \u001b[1;33m@\u001b[0m\u001b[0m_autogen_docstring\u001b[0m\u001b[1;33m(\u001b[0m\u001b[0mAxes\u001b[0m\u001b[1;33m.\u001b[0m\u001b[0msemilogy\u001b[0m\u001b[1;33m)\u001b[0m\u001b[1;33m\u001b[0m\u001b[0m\n\u001b[0;32m   3277\u001b[0m \u001b[1;32mdef\u001b[0m \u001b[0msemilogy\u001b[0m\u001b[1;33m(\u001b[0m\u001b[1;33m*\u001b[0m\u001b[0margs\u001b[0m\u001b[1;33m,\u001b[0m \u001b[1;33m**\u001b[0m\u001b[0mkwargs\u001b[0m\u001b[1;33m)\u001b[0m\u001b[1;33m:\u001b[0m\u001b[1;33m\u001b[0m\u001b[0m\n\u001b[1;32m-> 3278\u001b[1;33m     \u001b[0max\u001b[0m \u001b[1;33m=\u001b[0m \u001b[0mgca\u001b[0m\u001b[1;33m(\u001b[0m\u001b[1;33m)\u001b[0m\u001b[1;33m\u001b[0m\u001b[0m\n\u001b[0m\u001b[0;32m   3279\u001b[0m     \u001b[1;31m# allow callers to override the hold state by passing hold=True|False\u001b[0m\u001b[1;33m\u001b[0m\u001b[1;33m\u001b[0m\u001b[0m\n\u001b[0;32m   3280\u001b[0m     \u001b[0mwashold\u001b[0m \u001b[1;33m=\u001b[0m \u001b[0max\u001b[0m\u001b[1;33m.\u001b[0m\u001b[0mishold\u001b[0m\u001b[1;33m(\u001b[0m\u001b[1;33m)\u001b[0m\u001b[1;33m\u001b[0m\u001b[0m\n",
      "\u001b[1;32m/usr/local/lib/python3.4/dist-packages/matplotlib/pyplot.py\u001b[0m in \u001b[0;36mgca\u001b[1;34m(**kwargs)\u001b[0m\n\u001b[0;32m    926\u001b[0m     \u001b[0mmatplotlib\u001b[0m\u001b[1;33m.\u001b[0m\u001b[0mfigure\u001b[0m\u001b[1;33m.\u001b[0m\u001b[0mFigure\u001b[0m\u001b[1;33m.\u001b[0m\u001b[0mgca\u001b[0m \u001b[1;33m:\u001b[0m \u001b[0mThe\u001b[0m \u001b[0mfigure\u001b[0m\u001b[0;31m'\u001b[0m\u001b[0ms\u001b[0m \u001b[0mgca\u001b[0m \u001b[0mmethod\u001b[0m\u001b[1;33m.\u001b[0m\u001b[1;33m\u001b[0m\u001b[0m\n\u001b[0;32m    927\u001b[0m     \"\"\"\n\u001b[1;32m--> 928\u001b[1;33m     \u001b[1;32mreturn\u001b[0m \u001b[0mgcf\u001b[0m\u001b[1;33m(\u001b[0m\u001b[1;33m)\u001b[0m\u001b[1;33m.\u001b[0m\u001b[0mgca\u001b[0m\u001b[1;33m(\u001b[0m\u001b[1;33m**\u001b[0m\u001b[0mkwargs\u001b[0m\u001b[1;33m)\u001b[0m\u001b[1;33m\u001b[0m\u001b[0m\n\u001b[0m\u001b[0;32m    929\u001b[0m \u001b[1;33m\u001b[0m\u001b[0m\n\u001b[0;32m    930\u001b[0m \u001b[1;31m# More ways of creating axes:\u001b[0m\u001b[1;33m\u001b[0m\u001b[1;33m\u001b[0m\u001b[0m\n",
      "\u001b[1;32m/usr/local/lib/python3.4/dist-packages/matplotlib/pyplot.py\u001b[0m in \u001b[0;36mgcf\u001b[1;34m()\u001b[0m\n\u001b[0;32m    576\u001b[0m         \u001b[1;32mreturn\u001b[0m \u001b[0mfigManager\u001b[0m\u001b[1;33m.\u001b[0m\u001b[0mcanvas\u001b[0m\u001b[1;33m.\u001b[0m\u001b[0mfigure\u001b[0m\u001b[1;33m\u001b[0m\u001b[0m\n\u001b[0;32m    577\u001b[0m     \u001b[1;32melse\u001b[0m\u001b[1;33m:\u001b[0m\u001b[1;33m\u001b[0m\u001b[0m\n\u001b[1;32m--> 578\u001b[1;33m         \u001b[1;32mreturn\u001b[0m \u001b[0mfigure\u001b[0m\u001b[1;33m(\u001b[0m\u001b[1;33m)\u001b[0m\u001b[1;33m\u001b[0m\u001b[0m\n\u001b[0m\u001b[0;32m    579\u001b[0m \u001b[1;33m\u001b[0m\u001b[0m\n\u001b[0;32m    580\u001b[0m \u001b[1;33m\u001b[0m\u001b[0m\n",
      "\u001b[1;32m/usr/local/lib/python3.4/dist-packages/matplotlib/pyplot.py\u001b[0m in \u001b[0;36mfigure\u001b[1;34m(num, figsize, dpi, facecolor, edgecolor, frameon, FigureClass, **kwargs)\u001b[0m\n\u001b[0;32m    525\u001b[0m                                         \u001b[0mframeon\u001b[0m\u001b[1;33m=\u001b[0m\u001b[0mframeon\u001b[0m\u001b[1;33m,\u001b[0m\u001b[1;33m\u001b[0m\u001b[0m\n\u001b[0;32m    526\u001b[0m                                         \u001b[0mFigureClass\u001b[0m\u001b[1;33m=\u001b[0m\u001b[0mFigureClass\u001b[0m\u001b[1;33m,\u001b[0m\u001b[1;33m\u001b[0m\u001b[0m\n\u001b[1;32m--> 527\u001b[1;33m                                         **kwargs)\n\u001b[0m\u001b[0;32m    528\u001b[0m \u001b[1;33m\u001b[0m\u001b[0m\n\u001b[0;32m    529\u001b[0m         \u001b[1;32mif\u001b[0m \u001b[0mfigLabel\u001b[0m\u001b[1;33m:\u001b[0m\u001b[1;33m\u001b[0m\u001b[0m\n",
      "\u001b[1;32m/usr/local/lib/python3.4/dist-packages/matplotlib/backends/backend_tkagg.py\u001b[0m in \u001b[0;36mnew_figure_manager\u001b[1;34m(num, *args, **kwargs)\u001b[0m\n\u001b[0;32m     82\u001b[0m     \u001b[0mFigureClass\u001b[0m \u001b[1;33m=\u001b[0m \u001b[0mkwargs\u001b[0m\u001b[1;33m.\u001b[0m\u001b[0mpop\u001b[0m\u001b[1;33m(\u001b[0m\u001b[1;34m'FigureClass'\u001b[0m\u001b[1;33m,\u001b[0m \u001b[0mFigure\u001b[0m\u001b[1;33m)\u001b[0m\u001b[1;33m\u001b[0m\u001b[0m\n\u001b[0;32m     83\u001b[0m     \u001b[0mfigure\u001b[0m \u001b[1;33m=\u001b[0m \u001b[0mFigureClass\u001b[0m\u001b[1;33m(\u001b[0m\u001b[1;33m*\u001b[0m\u001b[0margs\u001b[0m\u001b[1;33m,\u001b[0m \u001b[1;33m**\u001b[0m\u001b[0mkwargs\u001b[0m\u001b[1;33m)\u001b[0m\u001b[1;33m\u001b[0m\u001b[0m\n\u001b[1;32m---> 84\u001b[1;33m     \u001b[1;32mreturn\u001b[0m \u001b[0mnew_figure_manager_given_figure\u001b[0m\u001b[1;33m(\u001b[0m\u001b[0mnum\u001b[0m\u001b[1;33m,\u001b[0m \u001b[0mfigure\u001b[0m\u001b[1;33m)\u001b[0m\u001b[1;33m\u001b[0m\u001b[0m\n\u001b[0m\u001b[0;32m     85\u001b[0m \u001b[1;33m\u001b[0m\u001b[0m\n\u001b[0;32m     86\u001b[0m \u001b[1;33m\u001b[0m\u001b[0m\n",
      "\u001b[1;32m/usr/local/lib/python3.4/dist-packages/matplotlib/backends/backend_tkagg.py\u001b[0m in \u001b[0;36mnew_figure_manager_given_figure\u001b[1;34m(num, figure)\u001b[0m\n\u001b[0;32m     90\u001b[0m     \"\"\"\n\u001b[0;32m     91\u001b[0m     \u001b[0m_focus\u001b[0m \u001b[1;33m=\u001b[0m \u001b[0mwindowing\u001b[0m\u001b[1;33m.\u001b[0m\u001b[0mFocusManager\u001b[0m\u001b[1;33m(\u001b[0m\u001b[1;33m)\u001b[0m\u001b[1;33m\u001b[0m\u001b[0m\n\u001b[1;32m---> 92\u001b[1;33m     \u001b[0mwindow\u001b[0m \u001b[1;33m=\u001b[0m \u001b[0mTk\u001b[0m\u001b[1;33m.\u001b[0m\u001b[0mTk\u001b[0m\u001b[1;33m(\u001b[0m\u001b[1;33m)\u001b[0m\u001b[1;33m\u001b[0m\u001b[0m\n\u001b[0m\u001b[0;32m     93\u001b[0m     \u001b[0mwindow\u001b[0m\u001b[1;33m.\u001b[0m\u001b[0mwithdraw\u001b[0m\u001b[1;33m(\u001b[0m\u001b[1;33m)\u001b[0m\u001b[1;33m\u001b[0m\u001b[0m\n\u001b[0;32m     94\u001b[0m \u001b[1;33m\u001b[0m\u001b[0m\n",
      "\u001b[1;32m/usr/lib/python3.4/tkinter/__init__.py\u001b[0m in \u001b[0;36m__init__\u001b[1;34m(self, screenName, baseName, className, useTk, sync, use)\u001b[0m\n\u001b[0;32m   1806\u001b[0m                 \u001b[0mbaseName\u001b[0m \u001b[1;33m=\u001b[0m \u001b[0mbaseName\u001b[0m \u001b[1;33m+\u001b[0m \u001b[0mext\u001b[0m\u001b[1;33m\u001b[0m\u001b[0m\n\u001b[0;32m   1807\u001b[0m         \u001b[0minteractive\u001b[0m \u001b[1;33m=\u001b[0m \u001b[1;36m0\u001b[0m\u001b[1;33m\u001b[0m\u001b[0m\n\u001b[1;32m-> 1808\u001b[1;33m         \u001b[0mself\u001b[0m\u001b[1;33m.\u001b[0m\u001b[0mtk\u001b[0m \u001b[1;33m=\u001b[0m \u001b[0m_tkinter\u001b[0m\u001b[1;33m.\u001b[0m\u001b[0mcreate\u001b[0m\u001b[1;33m(\u001b[0m\u001b[0mscreenName\u001b[0m\u001b[1;33m,\u001b[0m \u001b[0mbaseName\u001b[0m\u001b[1;33m,\u001b[0m \u001b[0mclassName\u001b[0m\u001b[1;33m,\u001b[0m \u001b[0minteractive\u001b[0m\u001b[1;33m,\u001b[0m \u001b[0mwantobjects\u001b[0m\u001b[1;33m,\u001b[0m \u001b[0museTk\u001b[0m\u001b[1;33m,\u001b[0m \u001b[0msync\u001b[0m\u001b[1;33m,\u001b[0m \u001b[0muse\u001b[0m\u001b[1;33m)\u001b[0m\u001b[1;33m\u001b[0m\u001b[0m\n\u001b[0m\u001b[0;32m   1809\u001b[0m         \u001b[1;32mif\u001b[0m \u001b[0museTk\u001b[0m\u001b[1;33m:\u001b[0m\u001b[1;33m\u001b[0m\u001b[0m\n\u001b[0;32m   1810\u001b[0m             \u001b[0mself\u001b[0m\u001b[1;33m.\u001b[0m\u001b[0m_loadtk\u001b[0m\u001b[1;33m(\u001b[0m\u001b[1;33m)\u001b[0m\u001b[1;33m\u001b[0m\u001b[0m\n",
      "\u001b[1;31mTclError\u001b[0m: no display name and no $DISPLAY environment variable"
     ]
    }
   ],
   "source": [
    "f, Pxx_den = signal.periodogram(x, fs)\n",
    "print (np.trapz(Pxx_den, x=f, dx=.005))\n",
    "plt.semilogy(f, Pxx_den)\n",
    "plt.ylim([1e-16, 1e0])\n",
    "plt.xlabel('frequency [Hz]')\n",
    "plt.ylabel('PSD [V**2/Hz]')\n",
    "plt.show()\n",
    "\n",
    "\n",
    "#print (f)\n",
    "f=f.tolist()\n",
    "f.pop(0)\n",
    "Pxx_den=Pxx_den.tolist()\n",
    "Pxx_den.pop(0)\n",
    "f=np.array(f)\n",
    "Pxx_den=np.array(Pxx_den)\n",
    "print(f)\n",
    "print(Pxx_den)\n",
    "\n",
    "print (len(f))\n",
    "\n"
   ]
  },
  {
   "cell_type": "code",
   "execution_count": 29,
   "metadata": {
    "collapsed": false
   },
   "outputs": [
    {
     "name": "stdout",
     "output_type": "stream",
     "text": [
      "1501\n",
      "1.76089557843e-10\n"
     ]
    },
    {
     "ename": "TclError",
     "evalue": "no display name and no $DISPLAY environment variable",
     "output_type": "error",
     "traceback": [
      "\u001b[1;31m---------------------------------------------------------------------------\u001b[0m",
      "\u001b[1;31mTclError\u001b[0m                                  Traceback (most recent call last)",
      "\u001b[1;32m<ipython-input-29-1a850adba369>\u001b[0m in \u001b[0;36m<module>\u001b[1;34m()\u001b[0m\n\u001b[0;32m      1\u001b[0m \u001b[0mprint\u001b[0m\u001b[1;33m(\u001b[0m\u001b[0mlen\u001b[0m\u001b[1;33m(\u001b[0m\u001b[0mf\u001b[0m\u001b[1;33m)\u001b[0m\u001b[1;33m)\u001b[0m\u001b[1;33m\u001b[0m\u001b[0m\n\u001b[0;32m      2\u001b[0m \u001b[0mprint\u001b[0m \u001b[1;33m(\u001b[0m\u001b[0mnp\u001b[0m\u001b[1;33m.\u001b[0m\u001b[0mtrapz\u001b[0m\u001b[1;33m(\u001b[0m\u001b[0mPxx_den\u001b[0m\u001b[1;33m,\u001b[0m \u001b[0mx\u001b[0m\u001b[1;33m=\u001b[0m\u001b[0mf\u001b[0m\u001b[1;33m,\u001b[0m \u001b[0mdx\u001b[0m\u001b[1;33m=\u001b[0m\u001b[1;36m.005\u001b[0m\u001b[1;33m)\u001b[0m\u001b[1;33m)\u001b[0m\u001b[1;33m\u001b[0m\u001b[0m\n\u001b[1;32m----> 3\u001b[1;33m \u001b[0mplt\u001b[0m\u001b[1;33m.\u001b[0m\u001b[0msemilogy\u001b[0m\u001b[1;33m(\u001b[0m\u001b[0mf\u001b[0m\u001b[1;33m,\u001b[0m \u001b[0mPxx_den\u001b[0m\u001b[1;33m)\u001b[0m\u001b[1;33m\u001b[0m\u001b[0m\n\u001b[0m\u001b[0;32m      4\u001b[0m \u001b[0mplt\u001b[0m\u001b[1;33m.\u001b[0m\u001b[0mylim\u001b[0m\u001b[1;33m(\u001b[0m\u001b[1;33m[\u001b[0m\u001b[1;36m1e-16\u001b[0m\u001b[1;33m,\u001b[0m \u001b[1;36m1e0\u001b[0m\u001b[1;33m]\u001b[0m\u001b[1;33m)\u001b[0m\u001b[1;33m\u001b[0m\u001b[0m\n\u001b[0;32m      5\u001b[0m \u001b[0mplt\u001b[0m\u001b[1;33m.\u001b[0m\u001b[0mxlabel\u001b[0m\u001b[1;33m(\u001b[0m\u001b[1;34m'frequency [Hz]'\u001b[0m\u001b[1;33m)\u001b[0m\u001b[1;33m\u001b[0m\u001b[0m\n",
      "\u001b[1;32m/usr/local/lib/python3.4/dist-packages/matplotlib/pyplot.py\u001b[0m in \u001b[0;36msemilogy\u001b[1;34m(*args, **kwargs)\u001b[0m\n\u001b[0;32m   3276\u001b[0m \u001b[1;33m@\u001b[0m\u001b[0m_autogen_docstring\u001b[0m\u001b[1;33m(\u001b[0m\u001b[0mAxes\u001b[0m\u001b[1;33m.\u001b[0m\u001b[0msemilogy\u001b[0m\u001b[1;33m)\u001b[0m\u001b[1;33m\u001b[0m\u001b[0m\n\u001b[0;32m   3277\u001b[0m \u001b[1;32mdef\u001b[0m \u001b[0msemilogy\u001b[0m\u001b[1;33m(\u001b[0m\u001b[1;33m*\u001b[0m\u001b[0margs\u001b[0m\u001b[1;33m,\u001b[0m \u001b[1;33m**\u001b[0m\u001b[0mkwargs\u001b[0m\u001b[1;33m)\u001b[0m\u001b[1;33m:\u001b[0m\u001b[1;33m\u001b[0m\u001b[0m\n\u001b[1;32m-> 3278\u001b[1;33m     \u001b[0max\u001b[0m \u001b[1;33m=\u001b[0m \u001b[0mgca\u001b[0m\u001b[1;33m(\u001b[0m\u001b[1;33m)\u001b[0m\u001b[1;33m\u001b[0m\u001b[0m\n\u001b[0m\u001b[0;32m   3279\u001b[0m     \u001b[1;31m# allow callers to override the hold state by passing hold=True|False\u001b[0m\u001b[1;33m\u001b[0m\u001b[1;33m\u001b[0m\u001b[0m\n\u001b[0;32m   3280\u001b[0m     \u001b[0mwashold\u001b[0m \u001b[1;33m=\u001b[0m \u001b[0max\u001b[0m\u001b[1;33m.\u001b[0m\u001b[0mishold\u001b[0m\u001b[1;33m(\u001b[0m\u001b[1;33m)\u001b[0m\u001b[1;33m\u001b[0m\u001b[0m\n",
      "\u001b[1;32m/usr/local/lib/python3.4/dist-packages/matplotlib/pyplot.py\u001b[0m in \u001b[0;36mgca\u001b[1;34m(**kwargs)\u001b[0m\n\u001b[0;32m    926\u001b[0m     \u001b[0mmatplotlib\u001b[0m\u001b[1;33m.\u001b[0m\u001b[0mfigure\u001b[0m\u001b[1;33m.\u001b[0m\u001b[0mFigure\u001b[0m\u001b[1;33m.\u001b[0m\u001b[0mgca\u001b[0m \u001b[1;33m:\u001b[0m \u001b[0mThe\u001b[0m \u001b[0mfigure\u001b[0m\u001b[0;31m'\u001b[0m\u001b[0ms\u001b[0m \u001b[0mgca\u001b[0m \u001b[0mmethod\u001b[0m\u001b[1;33m.\u001b[0m\u001b[1;33m\u001b[0m\u001b[0m\n\u001b[0;32m    927\u001b[0m     \"\"\"\n\u001b[1;32m--> 928\u001b[1;33m     \u001b[1;32mreturn\u001b[0m \u001b[0mgcf\u001b[0m\u001b[1;33m(\u001b[0m\u001b[1;33m)\u001b[0m\u001b[1;33m.\u001b[0m\u001b[0mgca\u001b[0m\u001b[1;33m(\u001b[0m\u001b[1;33m**\u001b[0m\u001b[0mkwargs\u001b[0m\u001b[1;33m)\u001b[0m\u001b[1;33m\u001b[0m\u001b[0m\n\u001b[0m\u001b[0;32m    929\u001b[0m \u001b[1;33m\u001b[0m\u001b[0m\n\u001b[0;32m    930\u001b[0m \u001b[1;31m# More ways of creating axes:\u001b[0m\u001b[1;33m\u001b[0m\u001b[1;33m\u001b[0m\u001b[0m\n",
      "\u001b[1;32m/usr/local/lib/python3.4/dist-packages/matplotlib/pyplot.py\u001b[0m in \u001b[0;36mgcf\u001b[1;34m()\u001b[0m\n\u001b[0;32m    576\u001b[0m         \u001b[1;32mreturn\u001b[0m \u001b[0mfigManager\u001b[0m\u001b[1;33m.\u001b[0m\u001b[0mcanvas\u001b[0m\u001b[1;33m.\u001b[0m\u001b[0mfigure\u001b[0m\u001b[1;33m\u001b[0m\u001b[0m\n\u001b[0;32m    577\u001b[0m     \u001b[1;32melse\u001b[0m\u001b[1;33m:\u001b[0m\u001b[1;33m\u001b[0m\u001b[0m\n\u001b[1;32m--> 578\u001b[1;33m         \u001b[1;32mreturn\u001b[0m \u001b[0mfigure\u001b[0m\u001b[1;33m(\u001b[0m\u001b[1;33m)\u001b[0m\u001b[1;33m\u001b[0m\u001b[0m\n\u001b[0m\u001b[0;32m    579\u001b[0m \u001b[1;33m\u001b[0m\u001b[0m\n\u001b[0;32m    580\u001b[0m \u001b[1;33m\u001b[0m\u001b[0m\n",
      "\u001b[1;32m/usr/local/lib/python3.4/dist-packages/matplotlib/pyplot.py\u001b[0m in \u001b[0;36mfigure\u001b[1;34m(num, figsize, dpi, facecolor, edgecolor, frameon, FigureClass, **kwargs)\u001b[0m\n\u001b[0;32m    525\u001b[0m                                         \u001b[0mframeon\u001b[0m\u001b[1;33m=\u001b[0m\u001b[0mframeon\u001b[0m\u001b[1;33m,\u001b[0m\u001b[1;33m\u001b[0m\u001b[0m\n\u001b[0;32m    526\u001b[0m                                         \u001b[0mFigureClass\u001b[0m\u001b[1;33m=\u001b[0m\u001b[0mFigureClass\u001b[0m\u001b[1;33m,\u001b[0m\u001b[1;33m\u001b[0m\u001b[0m\n\u001b[1;32m--> 527\u001b[1;33m                                         **kwargs)\n\u001b[0m\u001b[0;32m    528\u001b[0m \u001b[1;33m\u001b[0m\u001b[0m\n\u001b[0;32m    529\u001b[0m         \u001b[1;32mif\u001b[0m \u001b[0mfigLabel\u001b[0m\u001b[1;33m:\u001b[0m\u001b[1;33m\u001b[0m\u001b[0m\n",
      "\u001b[1;32m/usr/local/lib/python3.4/dist-packages/matplotlib/backends/backend_tkagg.py\u001b[0m in \u001b[0;36mnew_figure_manager\u001b[1;34m(num, *args, **kwargs)\u001b[0m\n\u001b[0;32m     82\u001b[0m     \u001b[0mFigureClass\u001b[0m \u001b[1;33m=\u001b[0m \u001b[0mkwargs\u001b[0m\u001b[1;33m.\u001b[0m\u001b[0mpop\u001b[0m\u001b[1;33m(\u001b[0m\u001b[1;34m'FigureClass'\u001b[0m\u001b[1;33m,\u001b[0m \u001b[0mFigure\u001b[0m\u001b[1;33m)\u001b[0m\u001b[1;33m\u001b[0m\u001b[0m\n\u001b[0;32m     83\u001b[0m     \u001b[0mfigure\u001b[0m \u001b[1;33m=\u001b[0m \u001b[0mFigureClass\u001b[0m\u001b[1;33m(\u001b[0m\u001b[1;33m*\u001b[0m\u001b[0margs\u001b[0m\u001b[1;33m,\u001b[0m \u001b[1;33m**\u001b[0m\u001b[0mkwargs\u001b[0m\u001b[1;33m)\u001b[0m\u001b[1;33m\u001b[0m\u001b[0m\n\u001b[1;32m---> 84\u001b[1;33m     \u001b[1;32mreturn\u001b[0m \u001b[0mnew_figure_manager_given_figure\u001b[0m\u001b[1;33m(\u001b[0m\u001b[0mnum\u001b[0m\u001b[1;33m,\u001b[0m \u001b[0mfigure\u001b[0m\u001b[1;33m)\u001b[0m\u001b[1;33m\u001b[0m\u001b[0m\n\u001b[0m\u001b[0;32m     85\u001b[0m \u001b[1;33m\u001b[0m\u001b[0m\n\u001b[0;32m     86\u001b[0m \u001b[1;33m\u001b[0m\u001b[0m\n",
      "\u001b[1;32m/usr/local/lib/python3.4/dist-packages/matplotlib/backends/backend_tkagg.py\u001b[0m in \u001b[0;36mnew_figure_manager_given_figure\u001b[1;34m(num, figure)\u001b[0m\n\u001b[0;32m     90\u001b[0m     \"\"\"\n\u001b[0;32m     91\u001b[0m     \u001b[0m_focus\u001b[0m \u001b[1;33m=\u001b[0m \u001b[0mwindowing\u001b[0m\u001b[1;33m.\u001b[0m\u001b[0mFocusManager\u001b[0m\u001b[1;33m(\u001b[0m\u001b[1;33m)\u001b[0m\u001b[1;33m\u001b[0m\u001b[0m\n\u001b[1;32m---> 92\u001b[1;33m     \u001b[0mwindow\u001b[0m \u001b[1;33m=\u001b[0m \u001b[0mTk\u001b[0m\u001b[1;33m.\u001b[0m\u001b[0mTk\u001b[0m\u001b[1;33m(\u001b[0m\u001b[1;33m)\u001b[0m\u001b[1;33m\u001b[0m\u001b[0m\n\u001b[0m\u001b[0;32m     93\u001b[0m     \u001b[0mwindow\u001b[0m\u001b[1;33m.\u001b[0m\u001b[0mwithdraw\u001b[0m\u001b[1;33m(\u001b[0m\u001b[1;33m)\u001b[0m\u001b[1;33m\u001b[0m\u001b[0m\n\u001b[0;32m     94\u001b[0m \u001b[1;33m\u001b[0m\u001b[0m\n",
      "\u001b[1;32m/usr/lib/python3.4/tkinter/__init__.py\u001b[0m in \u001b[0;36m__init__\u001b[1;34m(self, screenName, baseName, className, useTk, sync, use)\u001b[0m\n\u001b[0;32m   1806\u001b[0m                 \u001b[0mbaseName\u001b[0m \u001b[1;33m=\u001b[0m \u001b[0mbaseName\u001b[0m \u001b[1;33m+\u001b[0m \u001b[0mext\u001b[0m\u001b[1;33m\u001b[0m\u001b[0m\n\u001b[0;32m   1807\u001b[0m         \u001b[0minteractive\u001b[0m \u001b[1;33m=\u001b[0m \u001b[1;36m0\u001b[0m\u001b[1;33m\u001b[0m\u001b[0m\n\u001b[1;32m-> 1808\u001b[1;33m         \u001b[0mself\u001b[0m\u001b[1;33m.\u001b[0m\u001b[0mtk\u001b[0m \u001b[1;33m=\u001b[0m \u001b[0m_tkinter\u001b[0m\u001b[1;33m.\u001b[0m\u001b[0mcreate\u001b[0m\u001b[1;33m(\u001b[0m\u001b[0mscreenName\u001b[0m\u001b[1;33m,\u001b[0m \u001b[0mbaseName\u001b[0m\u001b[1;33m,\u001b[0m \u001b[0mclassName\u001b[0m\u001b[1;33m,\u001b[0m \u001b[0minteractive\u001b[0m\u001b[1;33m,\u001b[0m \u001b[0mwantobjects\u001b[0m\u001b[1;33m,\u001b[0m \u001b[0museTk\u001b[0m\u001b[1;33m,\u001b[0m \u001b[0msync\u001b[0m\u001b[1;33m,\u001b[0m \u001b[0muse\u001b[0m\u001b[1;33m)\u001b[0m\u001b[1;33m\u001b[0m\u001b[0m\n\u001b[0m\u001b[0;32m   1809\u001b[0m         \u001b[1;32mif\u001b[0m \u001b[0museTk\u001b[0m\u001b[1;33m:\u001b[0m\u001b[1;33m\u001b[0m\u001b[0m\n\u001b[0;32m   1810\u001b[0m             \u001b[0mself\u001b[0m\u001b[1;33m.\u001b[0m\u001b[0m_loadtk\u001b[0m\u001b[1;33m(\u001b[0m\u001b[1;33m)\u001b[0m\u001b[1;33m\u001b[0m\u001b[0m\n",
      "\u001b[1;31mTclError\u001b[0m: no display name and no $DISPLAY environment variable"
     ]
    }
   ],
   "source": [
    "print(len(f))\n",
    "print (np.trapz(Pxx_den, x=f, dx=.005))\n",
    "plt.semilogy(f, Pxx_den)\n",
    "plt.ylim([1e-16, 1e0])\n",
    "plt.xlabel('frequency [Hz]')\n",
    "plt.ylabel('PSD [V**2/Hz]')\n",
    "plt.show()\n",
    "\n",
    "print (np.trapz(Pxx_den, x=f, dx=.005))"
   ]
  },
  {
   "cell_type": "code",
   "execution_count": null,
   "metadata": {
    "collapsed": false
   },
   "outputs": [],
   "source": [
    "count=0\n",
    "for i in range (0,len(f)):\n",
    "    \n",
    "    if (f[i]==0):\n",
    "        count=count+1\n",
    "    else:\n",
    "        \n",
    "print (count)    "
   ]
  },
  {
   "cell_type": "code",
   "execution_count": 77,
   "metadata": {
    "collapsed": false
   },
   "outputs": [
    {
     "name": "stdout",
     "output_type": "stream",
     "text": [
      "0\n"
     ]
    }
   ],
   "source": [
    "count = 0\n",
    "i=0\n",
    "while (i > 1):\n",
    "    if (f[i]==0):\n",
    "        count=count+1\n",
    "    \n",
    "    i=i+1\n",
    "\n",
    "print (count)"
   ]
  },
  {
   "cell_type": "code",
   "execution_count": 30,
   "metadata": {
    "collapsed": false
   },
   "outputs": [
    {
     "data": {
      "text/plain": [
       "'print (len(x))\\nprint(x)'"
      ]
     },
     "execution_count": 30,
     "metadata": {},
     "output_type": "execute_result"
    }
   ],
   "source": [
    "aaa1.resize((1,3000))\n",
    "aaa2.resize((1,3000))\n",
    "aaa1=aaa1.tolist()\n",
    "aaa2=aaa2.tolist()\n",
    "#print (x)\n",
    "#s = set(x)\n",
    "aaa1=sum(aaa1, [])\n",
    "aaa2=sum(aaa2, [])\n",
    "'''print (len(x))\n",
    "print(x)'''"
   ]
  },
  {
   "cell_type": "code",
   "execution_count": 31,
   "metadata": {
    "collapsed": false
   },
   "outputs": [],
   "source": [
    "aaa1=np.array(aaa1)\n",
    "aaa2=np.array(aaa2)\n",
    "nout = 100000\n",
    "f = np.linspace(.02, 700, nout)\n",
    "normval = aaa1.shape[0]"
   ]
  },
  {
   "cell_type": "code",
   "execution_count": 32,
   "metadata": {
    "collapsed": false
   },
   "outputs": [],
   "source": [
    "#x = np.asarray(x)\n",
    "\n",
    "import scipy.signal as signal\n",
    "pgram = signal.lombscargle(aaa1, aaa2, f)"
   ]
  },
  {
   "cell_type": "code",
   "execution_count": 25,
   "metadata": {
    "collapsed": false
   },
   "outputs": [
    {
     "data": {
      "text/plain": [
       "'Least-squares spectral analysis (LSSA) is a method of estimating a frequency spectrum, based on a least squares fit of sinusoids to data samples, similar to Fourier analysis. Fourier analysis, the most used spectral method in science, generally boosts long-periodic noise in long gapped records; LSSA mitigates such problems.\\n\\nThe Lomb-Scargle method performs spectral analysis on unevenly sampled data and is known to be a powerful way to find, and test the significance of, weak periodic signals.\\n\\nFor a time series comprising NtNt measurements Xj≡X(tj)Xj≡X(tj) sampled at times tjtj where (j=1,…,Nt)(j=1,…,Nt), assumed to have been scaled and shifted such that its mean is zero and its variance is unity, the normalized Lomb-Scargle periodogram at frequency ff is\\n\\nPn(f)12⎧⎩⎨⎪⎪[∑NtjXjcosω(tj−τ)]2∑Ntjcos2ω(tj−τ)+[∑NtjXjsinω(tj−τ)]2∑Ntjsin2ω(tj−τ)⎫⎭⎬⎪⎪.\\nPn(f)12{[∑jNtXjcos\\u2061ω(tj−τ)]2∑jNtcos2\\u2061ω(tj−τ)+[∑jNtXjsin\\u2061ω(tj−τ)]2∑jNtsin2\\u2061ω(tj−τ)}.\\nHere, ω≡2πfω≡2πf is the angular frequency. The frequency dependent time offset ττ is given by\\n\\ntan2ωτ=∑Ntjsin2ωtj∑Ntjcos2ωtj.\\ntan\\u20612ωτ=∑jNtsin\\u20612ωtj∑jNtcos\\u20612ωtj.\\nThe lombscargle function calculates the periodogram using a slightly modified algorithm due to Townsend [3] which allows the periodogram to be calculated using only a single pass through the input arrays for each frequency.\\n\\nThe equation is refactored as:\\n\\nPn(f)=12[(cτXC+sτXS)2c2τCC+2cτsτCS+s2τSS+(cτXS−sτXC)2c2τSS−2cτsτCS+s2τCC]\\nPn(f)=12[(cτXC+sτXS)2cτ2CC+2cτsτCS+sτ2SS+(cτXS−sτXC)2cτ2SS−2cτsτCS+sτ2CC]\\nand\\n\\ntan2ωτ=2CSCC−SS.\\ntan\\u20612ωτ=2CSCC−SS.\\nHere,\\n\\ncτ=cosωτ,sτ=sinωτ\\ncτ=cos\\u2061ωτ,sτ=sin\\u2061ωτ\\nwhile the sums are\\n\\nXCXSCCSSCS=∑jNtXjcosωtj=∑jNtXjsinωtj=∑jNtcos2ωtj=∑jNtsin2ωtj=∑jNtcosωtjsinωtj.\\nXC=∑jNtXjcos\\u2061ωtjXS=∑jNtXjsin\\u2061ωtjCC=∑jNtcos2\\u2061ωtjSS=∑jNtsin2\\u2061ωtjCS=∑jNtcos\\u2061ωtjsin\\u2061ωtj.\\nThis requires Nf(2Nt+3)Nf(2Nt+3) trigonometric function evaluations giving a factor of ∼2∼2 speed increase over the straightforward implementation.'"
      ]
     },
     "execution_count": 25,
     "metadata": {},
     "output_type": "execute_result"
    }
   ],
   "source": [
    "'''Least-squares spectral analysis (LSSA) is a method of estimating a frequency spectrum, based on a least squares fit of sinusoids to data samples, similar to Fourier analysis. Fourier analysis, the most used spectral method in science, generally boosts long-periodic noise in long gapped records; LSSA mitigates such problems.\n",
    "\n",
    "The Lomb-Scargle method performs spectral analysis on unevenly sampled data and is known to be a powerful way to find, and test the significance of, weak periodic signals.\n",
    "\n",
    "For a time series comprising NtNt measurements Xj≡X(tj)Xj≡X(tj) sampled at times tjtj where (j=1,…,Nt)(j=1,…,Nt), assumed to have been scaled and shifted such that its mean is zero and its variance is unity, the normalized Lomb-Scargle periodogram at frequency ff is\n",
    "\n",
    "Pn(f)12⎧⎩⎨⎪⎪[∑NtjXjcosω(tj−τ)]2∑Ntjcos2ω(tj−τ)+[∑NtjXjsinω(tj−τ)]2∑Ntjsin2ω(tj−τ)⎫⎭⎬⎪⎪.\n",
    "Pn(f)12{[∑jNtXjcos⁡ω(tj−τ)]2∑jNtcos2⁡ω(tj−τ)+[∑jNtXjsin⁡ω(tj−τ)]2∑jNtsin2⁡ω(tj−τ)}.\n",
    "Here, ω≡2πfω≡2πf is the angular frequency. The frequency dependent time offset ττ is given by\n",
    "\n",
    "tan2ωτ=∑Ntjsin2ωtj∑Ntjcos2ωtj.\n",
    "tan⁡2ωτ=∑jNtsin⁡2ωtj∑jNtcos⁡2ωtj.\n",
    "The lombscargle function calculates the periodogram using a slightly modified algorithm due to Townsend [3] which allows the periodogram to be calculated using only a single pass through the input arrays for each frequency.\n",
    "\n",
    "The equation is refactored as:\n",
    "\n",
    "Pn(f)=12[(cτXC+sτXS)2c2τCC+2cτsτCS+s2τSS+(cτXS−sτXC)2c2τSS−2cτsτCS+s2τCC]\n",
    "Pn(f)=12[(cτXC+sτXS)2cτ2CC+2cτsτCS+sτ2SS+(cτXS−sτXC)2cτ2SS−2cτsτCS+sτ2CC]\n",
    "and\n",
    "\n",
    "tan2ωτ=2CSCC−SS.\n",
    "tan⁡2ωτ=2CSCC−SS.\n",
    "Here,\n",
    "\n",
    "cτ=cosωτ,sτ=sinωτ\n",
    "cτ=cos⁡ωτ,sτ=sin⁡ωτ\n",
    "while the sums are\n",
    "\n",
    "XCXSCCSSCS=∑jNtXjcosωtj=∑jNtXjsinωtj=∑jNtcos2ωtj=∑jNtsin2ωtj=∑jNtcosωtjsinωtj.\n",
    "XC=∑jNtXjcos⁡ωtjXS=∑jNtXjsin⁡ωtjCC=∑jNtcos2⁡ωtjSS=∑jNtsin2⁡ωtjCS=∑jNtcos⁡ωtjsin⁡ωtj.\n",
    "This requires Nf(2Nt+3)Nf(2Nt+3) trigonometric function evaluations giving a factor of ∼2∼2 speed increase over the straightforward implementation.'''"
   ]
  },
  {
   "cell_type": "code",
   "execution_count": 33,
   "metadata": {
    "collapsed": false
   },
   "outputs": [],
   "source": [
    "plt.plot(f, np.sqrt(4*(pgram/normval)))\n",
    "plt.show()"
   ]
  },
  {
   "cell_type": "code",
   "execution_count": null,
   "metadata": {
    "collapsed": true
   },
   "outputs": [],
   "source": []
  }
 ],
 "metadata": {
  "kernelspec": {
   "display_name": "Python 3",
   "language": "python",
   "name": "python3"
  },
  "language_info": {
   "codemirror_mode": {
    "name": "ipython",
    "version": 3
   },
   "file_extension": ".py",
   "mimetype": "text/x-python",
   "name": "python",
   "nbconvert_exporter": "python",
   "pygments_lexer": "ipython3",
   "version": "3.4.0"
  }
 },
 "nbformat": 4,
 "nbformat_minor": 0
}
