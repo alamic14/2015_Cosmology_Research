{
 "cells": [
  {
   "cell_type": "code",
   "execution_count": 1,
   "metadata": {
    "collapsed": true
   },
   "outputs": [],
   "source": [
    "import numpy as np\n",
    "import csv\n",
    "import math as m\n",
    "import scipy.constants as sp\n",
    "\n",
    "test=0\n",
    "# constants\n",
    "k_b=sp.k # boltzman const(k_b) in SI\n",
    "sig = sp.sigma # stefan boltzmann constant\n",
    "c=sp.c # speed of light\n",
    "h=sp.h # Planck's const\n",
    "pi=np.pi # pi\n",
    "\n",
    "\n",
    "# emmisivity, refl, trans  csv data transferred into matrix \n",
    "e=np.array(list(csv.reader(open(\"repository/repo/TER_file_cryorun7_emiss.csv\",\"r\"),delimiter=','))).astype('float')\n",
    "d_r=np.array(list(csv.reader(open(\"repository/repo/TER_file_cryorun7_refl.csv\",\"r\"),delimiter=','))).astype('float')\n",
    "t=np.array(list(csv.reader(open(\"repository/repo/TER_file_cryorun7_trans.csv\",\"r\"),delimiter=','))).astype('float')\n",
    "s_r=np.array(list(csv.reader(open(\"repository/repo/spec refl.csv\",\"r\"),delimiter=','))).astype('float')\n",
    "\n",
    "A=[]\n",
    "A=np.random.rand(6000,13)\n",
    "AA= A*(10**-21)"
   ]
  },
  {
   "cell_type": "code",
   "execution_count": 4,
   "metadata": {
    "collapsed": false
   },
   "outputs": [
    {
     "name": "stdout",
     "output_type": "stream",
     "text": [
      "0\n",
      "1\n",
      "2\n",
      "3\n"
     ]
    }
   ],
   "source": [
    "# test E's will bring from the prev program\n",
    "\n",
    "#   E_mat = [5, 4.8, 4.4, 3.6, 2, .8, .05, .002, .0004, .00006, .000009,.0000005 ]\n",
    "\n",
    "c=0 # counter\n",
    "\n",
    "#for i in range (0,6001):   #  the loop for going over 4 different areas of the circuit, for now testing the 2nd part\n",
    "\n",
    "\n",
    "\n",
    "\n",
    "\n",
    "# R mat\n",
    "\n",
    "R_mat=[]\n",
    "\n",
    "E_mat= E[k]    # the E from program Newer versionn (comparing tot P) ... gives the E of an element for a particular waveno.\n",
    "for c in (1,3,5,7,9,11):              #  the loop for going over 6 different areas of the circuit  (7x6)=42 equations (step 1) + 5 more remaining for transmission over filters 3, 5, 7, 9 & 11 (step 2) \n",
    "    R_mat= np.array([[1,1,-1,0,0,0,0,0], [0,0,1,-1,-1,0,0,0], [0,0,0,0,1,1,-1,0],[0,0,0,0,0,0,1,-1], [0,R[c+1],R[c+2],R[c+3],0,0,0,0], [0,0,0,0,0,R[c+5],R[c+6],R[c+7]],[0,R[c+1],R[c+2],0,R[c+4],0,R[c+6],R[c+7]], np.int32)\n",
    "    \n",
    "    J= np.linalg.inv(R_mat)*E_mat               # E at specific wavenumber\n",
    "    J_most= np.append(J_most,J)\n",
    "    \n",
    "    "
   ]
  },
  {
   "cell_type": "code",
   "execution_count": 11,
   "metadata": {
    "collapsed": false
   },
   "outputs": [
    {
     "name": "stdout",
     "output_type": "stream",
     "text": [
      "[[1 2 3]\n",
      " [4 5 6]\n",
      " [1 9 3]]\n",
      "[[-0.92857143  0.5        -0.07142857]\n",
      " [-0.14285714  0.          0.14285714]\n",
      " [ 0.73809524 -0.16666667 -0.07142857]]\n"
     ]
    }
   ],
   "source": [
    "J_most=[[1, 2, 3], [4, 5, 6]]\n",
    "J=[1, 9, 3]\n",
    "J_most.append(J)\n",
    "J_most=np.array(J_most)\n",
    "print (J_most)\n",
    "J= np.linalg.inv(J_most)\n",
    "print (J)"
   ]
  },
  {
   "cell_type": "code",
   "execution_count": null,
   "metadata": {
    "collapsed": true
   },
   "outputs": [],
   "source": []
  }
 ],
 "metadata": {
  "kernelspec": {
   "display_name": "Python 3",
   "language": "python",
   "name": "python3"
  },
  "language_info": {
   "codemirror_mode": {
    "name": "ipython",
    "version": 3
   },
   "file_extension": ".py",
   "mimetype": "text/x-python",
   "name": "python",
   "nbconvert_exporter": "python",
   "pygments_lexer": "ipython3",
   "version": "3.4.0"
  }
 },
 "nbformat": 4,
 "nbformat_minor": 0
}
