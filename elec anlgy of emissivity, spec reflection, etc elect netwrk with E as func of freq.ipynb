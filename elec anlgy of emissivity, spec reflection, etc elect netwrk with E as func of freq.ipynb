{
 "cells": [
  {
   "cell_type": "code",
   "execution_count": 19,
   "metadata": {
    "collapsed": false
   },
   "outputs": [
    {
     "ename": "TypeError",
     "evalue": "'NoneType' object has no attribute '__getitem__'",
     "output_type": "error",
     "traceback": [
      "\u001b[0;31m---------------------------------------------------------------------------\u001b[0m",
      "\u001b[0;31mTypeError\u001b[0m                                 Traceback (most recent call last)",
      "\u001b[0;32m<ipython-input-19-36433a626712>\u001b[0m in \u001b[0;36m<module>\u001b[0;34m()\u001b[0m\n\u001b[1;32m     25\u001b[0m \u001b[0mR_ef\u001b[0m\u001b[0;34m=\u001b[0m\u001b[0;34m[\u001b[0m\u001b[0;34m]\u001b[0m\u001b[0;34m\u001b[0m\u001b[0m\n\u001b[1;32m     26\u001b[0m \u001b[0;32mfor\u001b[0m \u001b[0mi\u001b[0m \u001b[0;32min\u001b[0m \u001b[0mrange\u001b[0m\u001b[0;34m(\u001b[0m\u001b[0;36m1\u001b[0m\u001b[0;34m,\u001b[0m\u001b[0mN\u001b[0m\u001b[0;34m)\u001b[0m\u001b[0;34m:\u001b[0m\u001b[0;34m\u001b[0m\u001b[0m\n\u001b[0;32m---> 27\u001b[0;31m     \u001b[0mQ\u001b[0m\u001b[0;34m=\u001b[0m \u001b[0;34m(\u001b[0m\u001b[0mEb\u001b[0m\u001b[0;34m[\u001b[0m\u001b[0mi\u001b[0m\u001b[0;34m]\u001b[0m\u001b[0;34m-\u001b[0m\u001b[0;34m(\u001b[0m\u001b[0mJ\u001b[0m\u001b[0;34m[\u001b[0m\u001b[0mi\u001b[0m\u001b[0;34m]\u001b[0m\u001b[0;34m/\u001b[0m\u001b[0;36m1\u001b[0m\u001b[0;34m-\u001b[0m\u001b[0mp_s\u001b[0m\u001b[0;34m[\u001b[0m\u001b[0mi\u001b[0m\u001b[0;34m]\u001b[0m\u001b[0;34m)\u001b[0m\u001b[0;34m)\u001b[0m\u001b[0;34m/\u001b[0m\u001b[0;34m(\u001b[0m\u001b[0mp_d\u001b[0m\u001b[0;34m[\u001b[0m\u001b[0mi\u001b[0m\u001b[0;34m]\u001b[0m\u001b[0;34m/\u001b[0m\u001b[0;34m(\u001b[0m\u001b[0;34m(\u001b[0m\u001b[0;36m1\u001b[0m\u001b[0;34m-\u001b[0m\u001b[0mp_s\u001b[0m\u001b[0;34m[\u001b[0m\u001b[0mi\u001b[0m\u001b[0;34m]\u001b[0m\u001b[0;34m)\u001b[0m\u001b[0;34m*\u001b[0m\u001b[0mei\u001b[0m\u001b[0;34m[\u001b[0m\u001b[0mi\u001b[0m\u001b[0;34m]\u001b[0m\u001b[0;34m*\u001b[0m\u001b[0mA\u001b[0m\u001b[0;34m[\u001b[0m\u001b[0mi\u001b[0m\u001b[0;34m]\u001b[0m\u001b[0;34m)\u001b[0m\u001b[0;34m)\u001b[0m\u001b[0;34m\u001b[0m\u001b[0m\n\u001b[0m\u001b[1;32m     28\u001b[0m     \u001b[0;32mprint\u001b[0m \u001b[0mQ\u001b[0m\u001b[0;34m\u001b[0m\u001b[0m\n\u001b[1;32m     29\u001b[0m \u001b[0;34m\u001b[0m\u001b[0m\n",
      "\u001b[0;31mTypeError\u001b[0m: 'NoneType' object has no attribute '__getitem__'"
     ]
    }
   ],
   "source": [
    "# infinite parallel plates, four plates with some emmissivity sandwitched between two black plates\n",
    "# including specular reflectance \n",
    "# consider E as a function of wavelength\n",
    "\n",
    "import numpy as np\n",
    "import scipy.constants as sp\n",
    "s=sp.k # stephan boltzman const(sigma) in SI\n",
    "c=sp.c\n",
    "h=sp.h\n",
    "\n",
    "T=[1000.,985.,810.,623.,200.]\n",
    "\n",
    "ei=[1.,.3, .2, .1, .4,1.]\n",
    "A=[10.**10,10.**10,10.**10,10.**10,10.**10,10.**10] #area of the element of our concern\n",
    "F=[1.,1.,1.,1.,1.,1.] # view factor from the element of our concern to the next one \n",
    "p_d=[0.,.5,.4,.3,.2,0.] # diffuse reflectance of the surfaces\n",
    "p_s= [0.,.3,.4,.6,.4,0.] #specular\n",
    "\n",
    "# E1=s*(T1**4)\n",
    "# E4=s*(T4**4)\n",
    "\n",
    "#finding Q\n",
    "N=len(ei)\n",
    "E=[]\n",
    "#for i in range (1,N):\n",
    " #   Eb=E.append(1)  \n",
    "\n",
    "R_ef=[]\n",
    "Q_mat=[]\n",
    "Q=0.\n",
    "for i in range(1,N):\n",
    "    for k in nprange(1,6000):\n",
    "        Eb=(ei[i]*2*h*c*(k**3))/(np.exp(h*c*k/(s*T[i]))-1)\n",
    "        J=ei[i]*Eb\n",
    "       \n",
    "        Q= (Eb-(J/1-p_s[i]))/(p_d[i]/((1-p_s[i])*ei[i]*A[i])) #sum of Eb in first row\n",
    "        Q_k=Q_k+Q\n",
    "\n",
    "    Q_mat.append(Q_k)\n",
    "\n",
    "print Q_mat\n",
    "\n",
    "\n",
    "                                \n",
    "#print \"***\" + str(R_ef) + \"***\"\n",
    "#pd= E1-E4\n"
   ]
  },
  {
   "cell_type": "code",
   "execution_count": null,
   "metadata": {
    "collapsed": true
   },
   "outputs": [],
   "source": [
    "# infinite parallel plates, four plates with some emmissivity sandwitched between two black plates\n",
    "# including specular reflectance \n",
    "# consider E as a function of wavelength\n",
    "\n",
    "import numpy as np\n",
    "import scipy.constants as sp\n",
    "s=sp.k # stephan boltzman const(sigma) in SI\n",
    "c=sp.c\n",
    "h=sp.h\n",
    "\n",
    "T=[1000.,985.,810.,623.,200.]\n",
    "\n",
    "ei=[1.,.3, .2, .1, .4,1.]\n",
    "A=[10.**10,10.**10,10.**10,10.**10,10.**10,10.**10] #area of the element of our concern\n",
    "F=[1.,1.,1.,1.,1.,1.] # view factor from the element of our concern to the next one \n",
    "p_d=[0.,.5,.4,.3,.2,0.] # diffuse reflectance of the surfaces\n",
    "p_s= [0.,.3,.4,.6,.4,0.] #specular\n",
    "\n",
    "# E1=s*(T1**4)\n",
    "# E4=s*(T4**4)\n",
    "\n",
    "#finding Q\n",
    "N=len(ei)\n",
    "E=[]\n",
    "#for i in range (1,N):\n",
    " #   Eb=E.append(1)  \n",
    "\n",
    "R_ef=[]\n",
    "Q_mat=[]\n",
    "Q=0.\n",
    "for i in range(1,N):\n",
    "    for k in nprange(1,6000):\n",
    "        Eb=(ei[i]*2*h*c*(k**3))/(np.exp(h*c*k/(s*T[i]))-1)\n",
    "        J=ei[i]*Eb\n",
    "       \n",
    "        Q= (Eb-(J/1-p_s[i]))/(p_d[i]/((1-p_s[i])*ei[i]*A[i])) #sum of Eb in first row\n",
    "        Q_k=Q_k+Q\n",
    "\n",
    "    Q_mat.append(Q_k)\n",
    "\n",
    "print Q_mat\n",
    "\n",
    "\n",
    "                                \n",
    "#print \"***\" + str(R_ef) + \"***\"\n",
    "#pd= E1-E4\n"
   ]
  },
  {
   "cell_type": "code",
   "execution_count": null,
   "metadata": {
    "collapsed": true
   },
   "outputs": [],
   "source": []
  },
  {
   "cell_type": "code",
   "execution_count": null,
   "metadata": {
    "collapsed": true
   },
   "outputs": [],
   "source": []
  }
 ],
 "metadata": {
  "kernelspec": {
   "display_name": "Python 2",
   "language": "python",
   "name": "python2"
  },
  "language_info": {
   "codemirror_mode": {
    "name": "ipython",
    "version": 2
   },
   "file_extension": ".py",
   "mimetype": "text/x-python",
   "name": "python",
   "nbconvert_exporter": "python",
   "pygments_lexer": "ipython2",
   "version": "2.7.9"
  }
 },
 "nbformat": 4,
 "nbformat_minor": 0
}
