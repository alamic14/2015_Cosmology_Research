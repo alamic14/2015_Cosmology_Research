{
 "cells": [
  {
   "cell_type": "code",
   "execution_count": 71,
   "metadata": {
    "collapsed": false
   },
   "outputs": [
    {
     "name": "stdout",
     "output_type": "stream",
     "text": [
      "***[1e-10, 1e-10, 1e-10, 1e-10, 1e-10, 1e-10, 1e-10, 1e-10, 1e-10]***\n",
      "1e-10\n",
      "291.407380401\n",
      "2e-10\n",
      "281.979437098\n",
      "3e-10\n",
      "271.49797045\n",
      "4e-10\n",
      "259.639162532\n",
      "5e-10\n",
      "245.888573323\n",
      "6e-10\n",
      "229.344964613\n",
      "7e-10\n",
      "208.166599947\n",
      "8e-10\n",
      "177.331902864\n",
      "9e-10\n",
      "100.0\n"
     ]
    }
   ],
   "source": [
    "# Black body, infinite parallel plates, four plates with some emmissivity sandwitched between two black plates\n",
    "\n",
    "import numpy as np\n",
    "s=5.670373*10**(-8) # stephan boltzman const(sigma) in SI\n",
    "T1=300.\n",
    "T4=100.\n",
    "ei=[1.,1.,1.,1.,1.,1.,1.,1.,1.,1.]\n",
    "A=[10.**10,10.**10,10.**10,10.**10,10.**10,10.**10,10.**10,10.**10,10.**10, 10.**10] #area of the element of our concern\n",
    "F=[1.,1.,1.,1.,1.,1.,1.,1.,1.,1.] #view factor from the element of our concern to the next one \n",
    "E1=s*(T1**4)\n",
    "E4=s*(T4**4)\n",
    "\n",
    "#finding Q\n",
    "\n",
    "N=len(ei)\n",
    "R_ef=[]\n",
    "for i in range(1,N):\n",
    "    RR= ((1-ei[i-1])/(ei[i-1]*A[i-1]))+ (1/(A[i]*F[i])) + (((1-ei[i])/(A[i]*ei[i])))\n",
    "    R_ef.append(RR)\n",
    "print \"***\" + str(R_ef) + \"***\"\n",
    "pd= E1-E4\n",
    "Q=pd/np.sum(R_ef)\n",
    "\n",
    "#for i in range(0,N):\n",
    "#    print np.sum(R_ef[0:i+1])\n",
    "#print Q, pd, R_ef\n",
    "    \n",
    "E=[]\n",
    "for i in range(0,N-1):\n",
    "    r=np.sum(R_ef[0:i+1])\n",
    "    print r\n",
    "    E=E1-(Q*r)\n",
    "    T=(E/s)**(1./4.)\n",
    "    print T"
   ]
  },
  {
   "cell_type": "code",
   "execution_count": null,
   "metadata": {
    "collapsed": true
   },
   "outputs": [],
   "source": []
  }
 ],
 "metadata": {
  "kernelspec": {
   "display_name": "Python 2",
   "language": "python",
   "name": "python2"
  },
  "language_info": {
   "codemirror_mode": {
    "name": "ipython",
    "version": 2
   },
   "file_extension": ".py",
   "mimetype": "text/x-python",
   "name": "python",
   "nbconvert_exporter": "python",
   "pygments_lexer": "ipython2",
   "version": "2.7.9"
  }
 },
 "nbformat": 4,
 "nbformat_minor": 0
}
