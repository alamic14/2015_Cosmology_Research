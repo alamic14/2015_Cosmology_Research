{
 "cells": [
  {
   "cell_type": "code",
   "execution_count": 1,
   "metadata": {
    "collapsed": false
   },
   "outputs": [
    {
     "name": "stdout",
     "output_type": "stream",
     "text": [
      "[['Record Length' '3000' '' 'Source' 'CH1']\n",
      " ['Sample Interval' '0.0000099999994' '' 'Second' 'Volt']\n",
      " ['Vertical Units' 'CH1:V' '' '-0.015000000000' '-0.00160']\n",
      " ..., \n",
      " ['' '' '' ' 0.014970000000' '-0.00144']\n",
      " ['' '' '' ' 0.014980000000' '-0.00160']\n",
      " ['' '' '' ' 0.014990000000' '-0.00136']]\n",
      "\n",
      "\n",
      "\n",
      "[['-0.015000000000' '-0.00160']\n",
      " ['-0.014990000000' '-0.00144']\n",
      " ['-0.014980000000' '-0.00144']\n",
      " ..., \n",
      " [' 0.014970000000' '-0.00144']\n",
      " [' 0.014980000000' '-0.00160']\n",
      " [' 0.014990000000' '-0.00136']]\n",
      "\n",
      "[[-0.015   -0.0016 ]\n",
      " [-0.01499 -0.00144]\n",
      " [-0.01498 -0.00144]\n",
      " ..., \n",
      " [ 0.01497 -0.00144]\n",
      " [ 0.01498 -0.0016 ]\n",
      " [ 0.01499 -0.00136]]\n",
      "\n",
      "\n",
      "\n",
      "[[-0.015  ]\n",
      " [-0.01499]\n",
      " [-0.01498]\n",
      " ..., \n",
      " [ 0.01497]\n",
      " [ 0.01498]\n",
      " [ 0.01499]]\n",
      "\n",
      "\n",
      "\n",
      "[[-0.0016 ]\n",
      " [-0.00144]\n",
      " [-0.00144]\n",
      " ..., \n",
      " [-0.00144]\n",
      " [-0.0016 ]\n",
      " [-0.00136]]\n",
      "\n",
      "\n",
      "\n",
      "[[  0.00000000e+00]\n",
      " [  1.00000000e-05]\n",
      " [  2.00000000e-05]\n",
      " ..., \n",
      " [  2.99700000e-02]\n",
      " [  2.99800000e-02]\n",
      " [  2.99900000e-02]]\n"
     ]
    }
   ],
   "source": [
    "import numpy as np\n",
    "import csv\n",
    "import math as m\n",
    "import scipy.constants as sp\n",
    "import numpy as np\n",
    "import matplotlib.pyplot as plt\n",
    "det=np.array(list(csv.reader(open(\"Data for detector and source/detector/ADS00001.CSV\",\"r\"),delimiter=',')))\n",
    "print (det)\n",
    "print()\n",
    "print()\n",
    "print()\n",
    "x = np.delete(det, (range(0,2)), axis=0)\n",
    "x = np.delete(x, (range(0,3)), axis=1)\n",
    "y = x.astype(np.float)\n",
    "# alternative for delete.. time efficient\n",
    "#arr=[]\n",
    "#arr=det\n",
    "#arr[arr.all(range(10,len(det)))]        \n",
    "\n",
    "print (x)\n",
    "#y=np.array(x)    # int32 ?\n",
    "print()\n",
    "print (y)\n",
    "print()\n",
    "print()\n",
    "print()\n",
    "aaa1= np.delete(y, 1, axis=1)\n",
    "aaa2= np.delete(y, 0, axis=1)\n",
    "print(aaa1)\n",
    "print()\n",
    "print()\n",
    "print()\n",
    "print(aaa2)\n",
    "print()\n",
    "print()\n",
    "print()\n",
    "\n",
    "#for i in range(0,len(aaa1)):\n",
    "#    while ( aaa1[i]<0.):\n",
    "#        aaa1[i]= aaa1[i]*-1.\n",
    "#    while ( aaa1[i]>=0.  ):\n",
    "#        aaa1[i]= aaa1[i]+0.000009999996\n",
    "\n",
    "aaa1= aaa1+0.015000000000\n",
    "print (aaa1)\n",
    "\n",
    "        \n",
    "#np.square(aaa2)\n"
   ]
  },
  {
   "cell_type": "code",
   "execution_count": 2,
   "metadata": {
    "collapsed": false
   },
   "outputs": [],
   "source": [
    "import numpy as np\n",
    "from scipy import signal\n",
    "import matplotlib.pyplot as plt\n"
   ]
  },
  {
   "cell_type": "code",
   "execution_count": 9,
   "metadata": {
    "collapsed": false
   },
   "outputs": [
    {
     "name": "stdout",
     "output_type": "stream",
     "text": [
      "[[  0.00000000e+00]\n",
      " [  2.07360000e-11]\n",
      " [  4.14720000e-11]\n",
      " ..., \n",
      " [  6.21457920e-08]\n",
      " [  7.67488000e-08]\n",
      " [  5.54695040e-08]]\n",
      "3000\n"
     ]
    }
   ],
   "source": [
    "fs = 1000\n",
    "aaa2=abs(aaa2)\n",
    "x=np.multiply((np.multiply(aaa1, aaa2)),aaa2)\n",
    "print(x)\n",
    "len(x)\n",
    "\n",
    "x.resize((1,3000))\n",
    "x=x.tolist()\n",
    "#print (x)\n",
    "#s = set(x)\n",
    "x=sum(x, [])\n",
    "print (len(x))\n",
    "#print(x)"
   ]
  },
  {
   "cell_type": "code",
   "execution_count": 11,
   "metadata": {
    "collapsed": false
   },
   "outputs": [
    {
     "name": "stdout",
     "output_type": "stream",
     "text": [
      "[  1.34524653e-47   7.34486352e-16   1.89629387e-16 ...,   4.29787401e-19\n",
      "   2.69796160e-18   1.15423661e-17]\n",
      "8.70109021207e-19\n",
      "[  8.70109021e-19  -7.33616243e-16  -1.88759278e-16 ...,   4.40321620e-19\n",
      "  -1.82785258e-18  -1.06722571e-17]\n",
      "1.6336913478e-18\n",
      "1.97321922021e-17\n"
     ]
    },
    {
     "data": {
      "text/plain": [
       "'\\n#print (f)\\nf=f.tolist()\\nf.pop(0)\\nPxx_den=Pxx_den.tolist()\\nPxx_den.pop(0)\\nf=np.array(f)\\nPxx_den=np.array(Pxx_den)\\nprint(f)\\nprint(Pxx_den)\\n\\nprint (len(f))\\n'"
      ]
     },
     "execution_count": 11,
     "metadata": {},
     "output_type": "execute_result"
    }
   ],
   "source": [
    "from numpy import mean, sqrt, square\n",
    "f, Pxx_den = signal.periodogram(x, fs)\n",
    "print (Pxx_den)\n",
    "print (np.mean(Pxx_den))\n",
    "Pxx_den= np.mean(Pxx_den)-Pxx_den\n",
    "print (Pxx_den)\n",
    "print (np.trapz(Pxx_den, x=f, dx=.005))\n",
    "rms = sqrt(mean(square(Pxx_den)))\n",
    "print(rms)\n",
    "\n",
    "plt.semilogy(f, Pxx_den)\n",
    "plt.ylim([1e-16, 1e0])\n",
    "plt.xlabel('frequency [Hz]')\n",
    "plt.ylabel('PSD [V**2/Hz]')\n",
    "plt.show()\n",
    "\n",
    "\n",
    "\n",
    "'''\n",
    "#print (f)\n",
    "f=f.tolist()\n",
    "f.pop(0)\n",
    "Pxx_den=Pxx_den.tolist()\n",
    "Pxx_den.pop(0)\n",
    "f=np.array(f)\n",
    "Pxx_den=np.array(Pxx_den)\n",
    "print(f)\n",
    "print(Pxx_den)\n",
    "\n",
    "print (len(f))\n",
    "'''\n"
   ]
  },
  {
   "cell_type": "code",
   "execution_count": 101,
   "metadata": {
    "collapsed": false
   },
   "outputs": [
    {
     "ename": "SyntaxError",
     "evalue": "unexpected EOF while parsing (<ipython-input-101-00682bce37ee>, line 4)",
     "output_type": "error",
     "traceback": [
      "\u001b[1;36m  File \u001b[1;32m\"<ipython-input-101-00682bce37ee>\"\u001b[1;36m, line \u001b[1;32m4\u001b[0m\n\u001b[1;33m    print ((np.trapz(Pxx_den, x=f))\u001b[0m\n\u001b[1;37m                                   ^\u001b[0m\n\u001b[1;31mSyntaxError\u001b[0m\u001b[1;31m:\u001b[0m unexpected EOF while parsing\n"
     ]
    }
   ],
   "source": [
    "print(len(f))\n",
    "plt.semilogy(f, Pxx_den)\n",
    "plt.ylim([1e-16, 1e0])\n",
    "plt.xlabel('frequency [Hz]')\n",
    "plt.ylabel('PSD [V**2/Hz]')\n",
    "plt.show()\n",
    "\n",
    "print (np.trapz(Pxx_den, x=f))\n"
   ]
  },
  {
   "cell_type": "code",
   "execution_count": null,
   "metadata": {
    "collapsed": false
   },
   "outputs": [],
   "source": [
    "count=0\n",
    "for i in range (0,len(f)):\n",
    "    \n",
    "    if (f[i]==0):\n",
    "        count=count+1\n",
    "    else:\n",
    "        \n",
    "print (count)    "
   ]
  },
  {
   "cell_type": "code",
   "execution_count": 77,
   "metadata": {
    "collapsed": false
   },
   "outputs": [
    {
     "name": "stdout",
     "output_type": "stream",
     "text": [
      "0\n"
     ]
    }
   ],
   "source": [
    "count = 0\n",
    "i=0\n",
    "while (i > 1):\n",
    "    if (f[i]==0):\n",
    "        count=count+1\n",
    "    \n",
    "    i=i+1\n",
    "\n",
    "print (count)"
   ]
  },
  {
   "cell_type": "code",
   "execution_count": null,
   "metadata": {
    "collapsed": true
   },
   "outputs": [],
   "source": []
  }
 ],
 "metadata": {
  "kernelspec": {
   "display_name": "Python 3",
   "language": "python",
   "name": "python3"
  },
  "language_info": {
   "codemirror_mode": {
    "name": "ipython",
    "version": 3
   },
   "file_extension": ".py",
   "mimetype": "text/x-python",
   "name": "python",
   "nbconvert_exporter": "python",
   "pygments_lexer": "ipython3",
   "version": "3.4.3"
  }
 },
 "nbformat": 4,
 "nbformat_minor": 0
}
