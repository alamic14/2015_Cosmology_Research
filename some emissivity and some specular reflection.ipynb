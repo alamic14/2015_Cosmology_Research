{
 "cells": [
  {
   "cell_type": "code",
   "execution_count": 77,
   "metadata": {
    "collapsed": false
   },
   "outputs": [
    {
     "name": "stdout",
     "output_type": "stream",
     "text": [
      "[ 0.5  0.5  0.5  0.5  0.5]\n",
      "[ 0.5  0.5  0.5  0.5  0.5]\n",
      "\n",
      "\n"
     ]
    },
    {
     "name": "stderr",
     "output_type": "stream",
     "text": [
      "/anaconda/lib/python2.7/site-packages/IPython/kernel/__main__.py:68: RuntimeWarning: invalid value encountered in power\n"
     ]
    },
    {
     "ename": "NameError",
     "evalue": "name 'q_' is not defined",
     "output_type": "error",
     "traceback": [
      "\u001b[0;31m---------------------------------------------------------------------------\u001b[0m",
      "\u001b[0;31mNameError\u001b[0m                                 Traceback (most recent call last)",
      "\u001b[0;32m<ipython-input-77-74dad8f1f2e5>\u001b[0m in \u001b[0;36m<module>\u001b[0;34m()\u001b[0m\n\u001b[1;32m     70\u001b[0m \u001b[0;34m\u001b[0m\u001b[0m\n\u001b[1;32m     71\u001b[0m \u001b[0mB\u001b[0m\u001b[0;34m=\u001b[0m\u001b[0mnp\u001b[0m\u001b[0;34m.\u001b[0m\u001b[0mlinalg\u001b[0m\u001b[0;34m.\u001b[0m\u001b[0minv\u001b[0m\u001b[0;34m(\u001b[0m\u001b[0mA\u001b[0m\u001b[0;34m)\u001b[0m\u001b[0;34m*\u001b[0m\u001b[0mC\u001b[0m\u001b[0;34m\u001b[0m\u001b[0m\n\u001b[0;32m---> 72\u001b[0;31m \u001b[0mq_\u001b[0m\u001b[0;34m\u001b[0m\u001b[0m\n\u001b[0m\u001b[1;32m     73\u001b[0m \u001b[0;34m\u001b[0m\u001b[0m\n\u001b[1;32m     74\u001b[0m \u001b[0;34m\u001b[0m\u001b[0m\n",
      "\u001b[0;31mNameError\u001b[0m: name 'q_' is not defined"
     ]
    }
   ],
   "source": [
    "# TASK 1\n",
    "# ei=1\n",
    "# N=5\n",
    "\n",
    "# TASK 1.5\n",
    "# N=8\n",
    "\n",
    "# TASK 2\n",
    "# ei= 0.5\n",
    "# pd= 0.5\n",
    "# E1=EN=1\n",
    "\n",
    "# Equations: A . eb = c. q + ho\n",
    "\n",
    "\n",
    "\n",
    "import numpy as np\n",
    "s=5.670373*10**(-8) # stephan boltzman const(sigma) in SI\n",
    "T1=1000.\n",
    "TN=200.\n",
    "ei=[1.,1., 1., .1, 1.]\n",
    "Area=[10.**10,10.**10,10.**10,10.**10,10.**10,10.**10] # area of the element of our concern\n",
    "F=[1.,1.,1.,1.,1.,1.] # view factor from the element of our concern to the next one \n",
    "Rfl=[1,1,1,1,1,1] # reflectance of the surfaces\n",
    "E1=s*(T1**4)\n",
    "EN=s*(TN**4)\n",
    "E_short=np.matrix([E1,EN])\n",
    "\n",
    "\n",
    "#rD=  np.array([[1.,1.,1.,1.,1.,1.],[1.,1.,1.,1.,1.,1.],[1.,1.,1.,1.,1.,1.],[1.,1.,1.,1.,1.,1.],[1.,1.,1.,1.,1.,1.]])    #diffused reflectance rho d\n",
    "rD = np.zeros(N)+0.5\n",
    "#rS=  np.array([[1.,1.,1.,1.,1.,1.],[1.,1.,1.,1.,1.,1.],[1.,1.,1.,1.,1.,1.],[1.,1.,1.,1.,1.,1.],[1.,1.,1.,1.,1.,1.]]) # specular reflectance rho S\n",
    "rS = np.zeros(N)+0.5\n",
    "print rD\n",
    "print rS\n",
    "q=np.matrix([1.,0.,0.,0.,1.]).I\n",
    "\n",
    "\n",
    "def kd(i,j):\n",
    "    if i==j:\n",
    "        return 1\n",
    "    else:\n",
    "        return 0\n",
    "\n",
    "print\n",
    "print\n",
    "N= len(ei)\n",
    "\n",
    "A = np.zeros(N*N)\n",
    "A = A.reshape(N,N)\n",
    "A = np.matrix(A)\n",
    "C = np.zeros(N*N)\n",
    "C = C.reshape(N,N)\n",
    "C = np.matrix(C)\n",
    "\n",
    "for i in range(N):\n",
    "    for j in range(N):\n",
    "        A[i,j]=kd(i,j)-(1-rS[j])*F[i]\n",
    "        C[i,j]=(kd(i,j)/ei[j])-(rD[j]/ei[j])*F[i]\n",
    "        \n",
    "\n",
    "        \n",
    "# now form the array of q\n",
    "#eb= np.linalg.inv(A)*C*q\n",
    "eb = (A.I)*C*q\n",
    "eb = np.array(eb)\n",
    "\n",
    "T=(eb/s)**(1./4)\n",
    "    \n",
    "\n",
    "B=np.linalg.inv(A)*C\n",
    "q_short=(B.I)*E_short\n",
    "        \n",
    "\n",
    "E1=s*(T1**4)\n",
    "EN=s*(T4**4)\n",
    "\n",
    "\n",
    "\n",
    "        "
   ]
  },
  {
   "cell_type": "code",
   "execution_count": null,
   "metadata": {
    "collapsed": false
   },
   "outputs": [],
   "source": []
  },
  {
   "cell_type": "code",
   "execution_count": null,
   "metadata": {
    "collapsed": true
   },
   "outputs": [],
   "source": []
  }
 ],
 "metadata": {
  "kernelspec": {
   "display_name": "Python 2",
   "language": "python",
   "name": "python2"
  },
  "language_info": {
   "codemirror_mode": {
    "name": "ipython",
    "version": 2
   },
   "file_extension": ".py",
   "mimetype": "text/x-python",
   "name": "python",
   "nbconvert_exporter": "python",
   "pygments_lexer": "ipython2",
   "version": "2.7.9"
  }
 },
 "nbformat": 4,
 "nbformat_minor": 0
}
