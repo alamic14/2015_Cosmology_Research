{
 "cells": [
  {
   "cell_type": "code",
   "execution_count": null,
   "metadata": {
    "collapsed": false
   },
   "outputs": [],
   "source": [
    "# calculate/sort priority\n",
    "import numpy as np\n",
    "\n",
    "n=(input('Number of tasks:'))\n",
    "n=int(n)\n",
    "print\n",
    "print\n",
    "task='0'\n",
    "pri=0\n",
    "t_arr=[]\n",
    "p_arr=[]\n",
    "print()\n",
    "print()\n",
    "print()\n",
    "print()\n",
    "print()\n",
    "print()\n",
    "for i in range(0,n):\n",
    "    task = input('Enter task: ')\n",
    "    pri= input ('Enter priority: ')\n",
    "    t_arr.append(task)\n",
    "    p_arr.append(pri)\n",
    "\n",
    "#t_arr=np.array(t_arr,dtype='str')\n",
    "#p_arr=np.array(p_arr,dtype='|S4')\n",
    "#p_arr = p_arr.astype(np.float)\n",
    "print (p_arr)\n",
    "c=[t_arr,p_arr]\n",
    "print( c)\n",
    "print (q)"
   ]
  },
  {
   "cell_type": "code",
   "execution_count": null,
   "metadata": {
    "collapsed": true
   },
   "outputs": [],
   "source": []
  }
 ],
 "metadata": {
  "kernelspec": {
   "display_name": "Python 3",
   "language": "python",
   "name": "python3"
  },
  "language_info": {
   "codemirror_mode": {
    "name": "ipython",
    "version": 3
   },
   "file_extension": ".py",
   "mimetype": "text/x-python",
   "name": "python",
   "nbconvert_exporter": "python",
   "pygments_lexer": "ipython3",
   "version": "3.4.0"
  }
 },
 "nbformat": 4,
 "nbformat_minor": 0
}
