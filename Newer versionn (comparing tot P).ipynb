{
 "cells": [
  {
   "cell_type": "code",
   "execution_count": 43,
   "metadata": {
    "collapsed": true
   },
   "outputs": [],
   "source": [
    "#### V3\n",
    "\n",
    "import numpy as np\n",
    "import csv\n",
    "import math as m\n",
    "import scipy.constants as sp\n",
    "\n",
    "test=0\n",
    "# constants\n",
    "k_b=sp.k # boltzman const(k_b) in SI\n",
    "sig = sp.sigma # stefan boltzmann constant\n",
    "c=sp.c # speed of light\n",
    "h=sp.h # Planck's const\n",
    "pi=np.pi # pi\n",
    "\n",
    "\n",
    "# emmisivity, refl, trans  csv data transferred into matrix \n",
    "e=np.array(list(csv.reader(open(\"repository/repo/TER_file_cryorun7_emiss.csv\",\"r\"),delimiter=','))).astype('float')\n",
    "d_r=np.array(list(csv.reader(open(\"repository/repo/TER_file_cryorun7_refl.csv\",\"r\"),delimiter=','))).astype('float')\n",
    "t=np.array(list(csv.reader(open(\"repository/repo/TER_file_cryorun7_trans.csv\",\"r\"),delimiter=','))).astype('float')\n",
    "s_r=np.array(list(csv.reader(open(\"repository/repo/spec refl.csv\",\"r\"),delimiter=','))).astype('float')\n",
    "\n",
    "A=[]\n",
    "A=np.random.rand(6000,13)\n",
    "AA= A*(10**-21)"
   ]
  },
  {
   "cell_type": "code",
   "execution_count": 67,
   "metadata": {
    "collapsed": false
   },
   "outputs": [
    {
     "name": "stdout",
     "output_type": "stream",
     "text": [
      "6000\n",
      "[1.3127502432324363e-15, 1.2141344718268708e-15, 1.1155285454644938e-15, 1.0144018270220354e-15, 9.1305757971614234e-16, 8.1335015958423211e-16, 7.1121829313544941e-16, 6.0824021242305092e-16, 5.0617563775084127e-16, 4.0598689069724219e-16, 3.07516668315987e-16, 2.0731797679461343e-16, 1.0711938469782575e-16]\n"
     ]
    },
    {
     "name": "stderr",
     "output_type": "stream",
     "text": [
      "/usr/local/lib/python3.4/dist-packages/ipykernel/__main__.py:62: RuntimeWarning: divide by zero encountered in double_scalars\n"
     ]
    }
   ],
   "source": [
    "n_e = 13\n",
    "n_k = 6000\n",
    "view_factor = 1\n",
    "step_size = 100\n",
    "t_0 = 300\n",
    "t_n = 4.2\n",
    "\n",
    "value_low = 10.**-4\n",
    "value_high = 1.-value_low\n",
    "\n",
    "k = 0\n",
    "Q_total = 0\n",
    "Q = []\n",
    "E = []\n",
    "k_values = []\n",
    "En=[]\n",
    "E0= 0\n",
    "E1= 0\n",
    "E2= 0\n",
    "E3= 0\n",
    "E4= 0\n",
    "E5= 0\n",
    "E6= 0\n",
    "E7= 0\n",
    "E8= 0\n",
    "E9= 0\n",
    "E10= 0\n",
    "E11= 0\n",
    "E12= 0\n",
    "\n",
    "E_mat=[]\n",
    "for a in range(0, n_k):\n",
    "    for b in range(0, n_e):\n",
    "        while (t[a,b] == 0):\n",
    "            t[a,b]= value_low\n",
    "        while (d_r[a,b] == 0):\n",
    "            d_r[a,b]= value_low\n",
    "        while (s_r[a,b] == 0):\n",
    "            s_r[a,b]= value_low\n",
    "        while (e[a,b] == 0):\n",
    "            e[a,b]= value_low\n",
    "        \n",
    "\n",
    "for i in range(0, n_k):\n",
    "    \n",
    "    #Do my r_s, r_d, t, e values add up to one (or close to)?\n",
    "    \n",
    "    #Resistance\n",
    "    R_T = 0.\n",
    "    R_T += d_r[i, 0]/((1-s_r[i, 0])*e[i, 0]) + 1/((1-s_r[i, 0])*(1-s_r[i, 1])*view_factor)\n",
    "    \n",
    "    for j in range(1, n_e-1):\n",
    "        for b in range(0, n_e):\n",
    "            while (t[a,b] == 1):\n",
    "                t[a,b]= 1-value_low\n",
    "            while (d_r[a,b] == 1):\n",
    "                d_r[a,b]= 1-value_low\n",
    "            while (s_r[a,b] == 1):\n",
    "                s_r[a,b]= 1-value_low\n",
    "            while (e[a,b] == 1):\n",
    "                e[a,b]= 1-value_low\n",
    "        R_T += (1/((2*d_r[i, j]/((1-s_r[i, j])*e[i, j]))) + t[i, j]/(1-t[i, j]))**-1 +\\\n",
    "                1/((1-s_r[i, j])*(1-s_r[i, j+1])*view_factor)\n",
    "            \n",
    "    R_T += 1/((1-s_r[i, j])*(1-s_r[i, j+1])*view_factor) +\\\n",
    "            d_r[i, j+1]/(1-s_r[i, j+1])*e[i, j+1]\n",
    "        \n",
    "    \n",
    "    k += 100\n",
    "    \n",
    "    #Large value correction\n",
    "    def volt(k, T):\n",
    "        import decimal as dc\n",
    "        index = h*c*k/k_b/T\n",
    "        if (index) > 10**2.8:\n",
    "            return (0.)\n",
    "        elif (index) < 10.**(-4):\n",
    "            return (2*(k**2)*k_b*T)\n",
    "        else:\n",
    "            return (2*h*c*k**3)*(1/((m.e**(h*c*k/k_b/T))-1))\n",
    "\n",
    "    #Current    \n",
    "   \n",
    "\n",
    "    I = (volt(k, t_0) - volt(k, t_n))/R_T\n",
    "    #Q.append(I)\n",
    "    #Q_total += I*c*step_size*m.pi\n",
    "    \n",
    "    #Emissive powers\n",
    "    E_elements = []\n",
    "    voltage = volt(k, t_0)\n",
    "    E_elements.append(voltage)\n",
    "    \n",
    "    #first element\n",
    "    voltage -= I*(d_r[i,0]/(1-s_r[i,0])/e[i,0] + 1/(1-s_r[i,0])/(1-s_r[i,1])/view_factor)\n",
    "    voltage -= I*((1-t[i,1])/t[i,1])*(d_r[i,1]/(1-s_r[i,1])/e[i,1])/\\\n",
    "               (2*d_r[i,1]/(1-s_r[i,1])/e[i,1] + (1-t[i,1])/t[i,1])\n",
    "    E_elements.append(voltage)\n",
    "    \n",
    "    if test:\n",
    "        k=1.\n",
    "        T=1000.\n",
    "        print(c)\n",
    "        print(h)\n",
    "        print(k_b)\n",
    "        print(volt(k,T))\n",
    "        print(h*c*k/k_b/T)\n",
    "        print(2*k**2*k_b*T)\n",
    "        print(2*h*c*k**3/(m.e**(h*c*k/k_b/T)-1)) \n",
    "        a = input('Press enter to continue')\n",
    "    \n",
    "    #2nd to last-second element\n",
    "    for l in range(1, n_e-2):\n",
    "        voltage -= I*((1-t[i,l])/t[i,l])/(2*d_r[i,l]/(1-s_r[i,l])/e[i,l] +\n",
    "                                          (1-t[i,l])/t[i,l])*(d_r[i,l]/(1-s_r[i,l])/e[i,l])\n",
    "        voltage -= I*(1/(1-s_r[i,l])/(1-s_r[i,l+1])/view_factor)\n",
    "        voltage -= I*((1-t[i,l+1])/t[i,l+1])/(2*d_r[i,l+1]/(1-s_r[i,l+1])/e[i,l+1] + \n",
    "                                              (1-t[i,l+1])/t[i,l+1])*(d_r[i,l+1]/(1-s_r[i,l+1])/e[i,l+1])\n",
    "        E_elements.append(voltage)\n",
    "  \n",
    "    #last element\n",
    "    voltage -= I*((1-t[i,l+1])/t[i,l+1])/(2*d_r[i,l+1]/(1-s_r[i,l+1])/e[i,l+1] +\n",
    "                                          (1-t[i,l+1])/t[i,l+1])*(d_r[i,l+1]/(1-s_r[i,l+1])/e[i,l+1])\n",
    "    voltage -= I*(1/(1-s_r[i,l+1])/(1-s_r[i,l+2])/view_factor + \n",
    "                  d_r[i,l+2]/(1-s_r[i,l+2])/e[i,l+2])\n",
    "    E_elements.append(voltage)\n",
    "    \n",
    "    E.append(E_elements)\n",
    "    \n",
    "    E0= E_elements[0] +E0\n",
    "    E1= E_elements[1] +E1\n",
    "    E2= E_elements[2] +E2\n",
    "    E3= E_elements[3] +E3\n",
    "    E4= E_elements[4] +E4\n",
    "    E5= E_elements[5] +E5\n",
    "    E6= E_elements[6] +E6\n",
    "    E7= E_elements[7] +E7\n",
    "    E8= E_elements[8] +E8\n",
    "    E9= E_elements[9] +E9\n",
    "    E10= E_elements[10] +E10\n",
    "    E11= E_elements[11] +E11\n",
    "    E12= E_elements[12] +E12\n",
    "    E_elements = []\n",
    "    A = np.array(E)\n",
    "    k_values.append(k)\n",
    "    \n",
    "\n",
    "A=A#+AA\n",
    "\n",
    "print (len(E))\n",
    "E_mat= E[3]\n",
    "print (E_mat)"
   ]
  },
  {
   "cell_type": "code",
   "execution_count": 68,
   "metadata": {
    "collapsed": false
   },
   "outputs": [
    {
     "name": "stdout",
     "output_type": "stream",
     "text": [
      "[0.541537584457286, 0.53914799630777088, 0.52946317030034007, 0.5098519016041505, 0.49689714999733103, 0.47715867548778784, 0.44524774216754154, 0.40159245964947421, 0.34387714890701709, 0.31878569130132778, 0.30645127106550457, 0.26806387535591752]\n",
      "[1.3127502432324363e-15, 1.2141344718268708e-15, 1.1155285454644938e-15, 1.0144018270220354e-15, 9.1305757971614234e-16, 8.1335015958423211e-16, 7.1121829313544941e-16, 6.0824021242305092e-16, 5.0617563775084127e-16, 4.0598689069724219e-16, 3.07516668315987e-16, 2.0731797679461343e-16, 1.0711938469782575e-16]\n"
     ]
    }
   ],
   "source": [
    "#print (E0)\n",
    "#Tn= (En/sig)**(1/4)\n",
    "EEE = [E0,E1,E2,E3,E4,E5,E6,E7,E8,E9,E10,E11,E12]\n",
    "Tn=0.\n",
    "Tn_matrx=[]\n",
    "#print (EEE)\n",
    "for iii in range(0, 12):\n",
    "    Tn = (EEE[iii]/sig)**(1/4)\n",
    "    Tn_matrx.append(Tn)\n",
    "print(Tn_matrx)\n",
    "\n",
    "#print (E)\n",
    "\n",
    "E_mat= E[3]\n",
    "print (E_mat)\n"
   ]
  },
  {
   "cell_type": "code",
   "execution_count": 60,
   "metadata": {
    "collapsed": false
   },
   "outputs": [
    {
     "ename": "SyntaxError",
     "evalue": "invalid syntax (<ipython-input-60-6a3ea2f7d1f1>, line 1)",
     "output_type": "error",
     "traceback": [
      "\u001b[1;36m  File \u001b[1;32m\"<ipython-input-60-6a3ea2f7d1f1>\"\u001b[1;36m, line \u001b[1;32m1\u001b[0m\n\u001b[1;33m    while J_in!=J_out\u001b[0m\n\u001b[1;37m                     ^\u001b[0m\n\u001b[1;31mSyntaxError\u001b[0m\u001b[1;31m:\u001b[0m invalid syntax\n"
     ]
    }
   ],
   "source": [
    "while J_in!=J_out\n",
    "    EEE = (Tn_matrix**4)*sig\n",
    "    print EEE\n"
   ]
  },
  {
   "cell_type": "code",
   "execution_count": 55,
   "metadata": {
    "collapsed": false
   },
   "outputs": [
    {
     "name": "stdout",
     "output_type": "stream",
     "text": [
      "[  4.87670002e-09   4.79119239e-09   4.45609715e-09   3.83166738e-09\n",
      "   3.45682705e-09   2.93942867e-09   2.22853024e-09   1.47487029e-09\n",
      "   7.92911830e-10   5.85607874e-10   5.00100554e-10   2.92795768e-10]\n"
     ]
    }
   ],
   "source": [
    "EEE = (np.power(Tn_matrx,4))*sig\n",
    "print(EEE) "
   ]
  },
  {
   "cell_type": "code",
   "execution_count": null,
   "metadata": {
    "collapsed": true
   },
   "outputs": [],
   "source": []
  }
 ],
 "metadata": {
  "kernelspec": {
   "display_name": "Python 3",
   "language": "python",
   "name": "python3"
  },
  "language_info": {
   "codemirror_mode": {
    "name": "ipython",
    "version": 3
   },
   "file_extension": ".py",
   "mimetype": "text/x-python",
   "name": "python",
   "nbconvert_exporter": "python",
   "pygments_lexer": "ipython3",
   "version": "3.4.0"
  }
 },
 "nbformat": 4,
 "nbformat_minor": 0
}
