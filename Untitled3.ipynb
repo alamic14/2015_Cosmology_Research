{
 "cells": [
  {
   "cell_type": "code",
   "execution_count": 4,
   "metadata": {
    "collapsed": false
   },
   "outputs": [
    {
     "name": "stdout",
     "output_type": "stream",
     "text": [
      "6361453414.32\n",
      "7.07333035281e+19\n"
     ]
    }
   ],
   "source": [
    "# infinite parallel plates, four plates with some emmissivity sandwitched between two black plates\n",
    "# including specular reflectance \n",
    "# consider E as a function of wavelength\n",
    "\n",
    "import numpy as np\n",
    "import scipy.constants as sp\n",
    "\n",
    "\n",
    "\n",
    "s=sp.sigma # stephan boltzman const(sigma) in SI\n",
    "c=sp.c\n",
    "h=sp.h\n",
    "pi=np.pi\n",
    "\n",
    "def planck(k, T):\n",
    "    if (h*c*k/(s*T)) < 10**(-4):\n",
    "        I = 2.*h*c*(k**3)*(s*T)/(h*c*k)\n",
    "    elif (h*c*k/(s*T)) > 10**(4):\n",
    "        I = 0.\n",
    "    else:\n",
    "        I = 2.*h*c*(k**3)/(np.exp(h*c*k/(s*T))-1)\n",
    "    return I\n",
    "\n",
    "T=[1000.,985.,810.,623.,200.,80.]\n",
    "\n",
    "ei=[1.,.3, .2, .1,.4,1.]\n",
    "A=[10.**10,10.**10,10.**10,10.**10,10.**10,10.**10] #area of the element of our concern\n",
    "F=[1.,1.,1.,1.,1.,1.] # view factor from the element of our concern to the next one \n",
    "p_d=[0.,.5,.4,.3,.2,0.] # diffuse reflectance of the surfaces\n",
    "p_s= [0.,.3,.4,.6,.4,0.] #specular\n",
    "\n",
    "# E1=s*(T1**4)\n",
    "# E4=s*(T4**4)\n",
    "\n",
    "#finding Q\n",
    "N=len(ei)\n",
    "n=N-1\n",
    "E=[]\n",
    "\n",
    "\n",
    "#for i in range (1,N):\n",
    " #   Eb=E.append(1)  \n",
    "\n",
    "R_ef=[]\n",
    "Q_mat=[]\n",
    "Q=0.\n",
    "Q_k=0.\n",
    "R_ef=0.\n",
    "E1=0.\n",
    "EN=0.\n",
    "for i in range(0,n):\n",
    "    R_ef=R_ef+(p_d[i]/(1-p_s[i])*ei[i]*A[i])+(1/((1-p_s[i])*F[i]*(1-p_s[i+1])))+(p_d[i+1]/(1-p_s[i+1])*ei[i+1]*A[i+1])\n",
    "    \n",
    "    \n",
    "for p in np.arange(1,6000):\n",
    "    k=p*100\n",
    "    #Eb=(planck(k, T[i]))\n",
    "    #J=ei[i]*Eb+p_d[i]*H\n",
    "    E1+= ei[0]*planck(k,T[0])\n",
    "    EN+= ei[n]*planck(k,T[n])\n",
    "    \n",
    "\n",
    "    \n",
    "Q= ((E1-EN)/R_ef)*c*pi\n",
    "    \n",
    "print Q\n",
    "\n",
    "    #Q_mat.append(Q)\n",
    "\n",
    "\n",
    "Req= Q*R_ef\n",
    "print Req\n",
    "\n",
    "                                \n",
    "#print \"***\" + str(R_ef) + \"***\"\n",
    "#pd= E1-E4\n"
   ]
  },
  {
   "cell_type": "code",
   "execution_count": 3,
   "metadata": {
    "collapsed": false
   },
   "outputs": [
    {
     "name": "stdout",
     "output_type": "stream",
     "text": [
      "1.98644568327e-20\n"
     ]
    }
   ],
   "source": [
    "print h*c*1000*100"
   ]
  },
  {
   "cell_type": "code",
   "execution_count": null,
   "metadata": {
    "collapsed": true
   },
   "outputs": [],
   "source": []
  }
 ],
 "metadata": {
  "kernelspec": {
   "display_name": "Python 2",
   "language": "python",
   "name": "python2"
  },
  "language_info": {
   "codemirror_mode": {
    "name": "ipython",
    "version": 2
   },
   "file_extension": ".py",
   "mimetype": "text/x-python",
   "name": "python",
   "nbconvert_exporter": "python",
   "pygments_lexer": "ipython2",
   "version": "2.7.9"
  }
 },
 "nbformat": 4,
 "nbformat_minor": 0
}
